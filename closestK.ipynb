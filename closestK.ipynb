{
 "cells": [
  {
   "cell_type": "markdown",
   "metadata": {},
   "source": [
    "# Finding the predicate..."
   ]
  },
  {
   "cell_type": "code",
   "execution_count": 55,
   "metadata": {},
   "outputs": [],
   "source": [
    "import pandas as pd\n",
    "from typing import List\n",
    "import tempfile\n",
    "import urllib.request\n",
    "from os import path\n",
    "import PyPDF2 as ppdf\n",
    "import re\n",
    "import json\n",
    "from collections import defaultdict\n",
    "from tqdm import tqdm"
   ]
  },
  {
   "cell_type": "code",
   "execution_count": 78,
   "metadata": {},
   "outputs": [],
   "source": [
    "def find_predicate(pcode: str) -> str:\n",
    "\n",
    "    # Extract year from product code\n",
    "    if pcode[0] == 'K': yr = pcode[1:3]\n",
    "    else: return None\n",
    "\n",
    "    url = f'https://www.accessdata.fda.gov/cdrh_docs/pdf{yr}/{pcode}.pdf'\n",
    "    # print(url)\n",
    "\n",
    "    # Pull PDF data\n",
    "    response = urllib.request.urlopen(url)\n",
    "    pg_data = response.read()\n",
    "\n",
    "    # Write to tempfile object\n",
    "    temp_file = path.join(tempfile.gettempdir(), 'temp.pdf')\n",
    "    pdf_file = open(temp_file, 'wb')\n",
    "    pdf_file.write(pg_data)\n",
    "\n",
    "    found = []\n",
    "\n",
    "    # In case the document is too old\n",
    "    try: \n",
    "        doc = ppdf.PdfFileReader(open(temp_file, 'rb'))\n",
    "    except Exception as e: \n",
    "        print(f'could not open pdf for {pcode}')\n",
    "        return None\n",
    "\n",
    "    for pg in doc.pages:\n",
    "        try:\n",
    "            pg_content = (pg.extract_text() + '\\n').upper()\n",
    "            regex = re.search('PREDICATE', pg_content)\n",
    "\n",
    "            # Find all product codes after each occurrence of 'predicate' sorted in order of appearance\n",
    "            if regex is not None:\n",
    "                chunks = re.findall('(P|DEN|K)([0-9]{6})', pg_content[regex.span()[1]:])\n",
    "                pcodes = [p1+p2 for p1,p2 in chunks]\n",
    "                for cand in pcodes:\n",
    "                    if cand != pcode: \n",
    "                        found.append(cand)\n",
    "                        break\n",
    "\n",
    "        except Exception as e:\n",
    "            # print(f'issue finding predicate for {pcode}: {e}')\n",
    "            pass\n",
    "\n",
    "    # Return most occuring element in found, just an extra layer of assurance\n",
    "    return max(set(found), key = found.count) if len(found) else None\n"
   ]
  },
  {
   "cell_type": "code",
   "execution_count": 4,
   "metadata": {},
   "outputs": [],
   "source": [
    "def get_nums(pcode: str, limit: int) -> List[str]:\n",
    "    url = f'https://api.fda.gov/device/510k.json?search={pcode}&limit={limit}'\n",
    "\n",
    "    response = urllib.request.urlopen(url)\n",
    "    db = json.loads(response.read())\n",
    "\n",
    "    return [d[\"k_number\"] for d in db[\"results\"]]"
   ]
  },
  {
   "cell_type": "code",
   "execution_count": 47,
   "metadata": {},
   "outputs": [],
   "source": [
    "def to_root(src: str): \n",
    "    res = [src]\n",
    "\n",
    "    while res[-1][0] == 'K':\n",
    "        pred = find_predicate(res[-1])\n",
    "        if pred is None or pred in res: break\n",
    "        res.append(pred)\n",
    "\n",
    "    return res"
   ]
  },
  {
   "cell_type": "code",
   "execution_count": null,
   "metadata": {},
   "outputs": [],
   "source": [
    "# MYN\n",
    "# ├────P000041\n",
    "# │  ├────K201560\n",
    "# │  └────K210666\n",
    "# └────P980025\n",
    "#    ├────K212519\n",
    "#    ├────K213795\n",
    "#    └────K210365"
   ]
  },
  {
   "cell_type": "code",
   "execution_count": null,
   "metadata": {},
   "outputs": [],
   "source": [
    "# QAS\n",
    "# └────DEN170073\n",
    "#      ├────K182177\n",
    "#      │    ├────K203260\n",
    "#      │    ├────K201310\n",
    "#      │    └────K190424\n",
    "#      ├────K200873\n",
    "#      │    └────K211788\n",
    "#      ├────K212261\n",
    "#      ├────K180647\n",
    "#      │    ├────K193298\n",
    "#      │    ├────K190896\n",
    "#      │    ├────K193351\n",
    "#      │    ├────K200855\n",
    "#      │    ├────K203508\n",
    "#      │    │    ├────K221240\n",
    "#      │    │    ├────K213886\n",
    "#      │    │    ├────K213721\n",
    "#      │    │    └────K221314\n",
    "#      │    ├────K192167\n",
    "#      │    ├────K200921\n",
    "#      │    ├────K192383\n",
    "#      │    ├────K182875\n",
    "#      │    ├────K190072\n",
    "#      │    │    ├────K210237\n",
    "#      │    │    ├────K220499\n",
    "#      │    │    └────K201020\n",
    "#      │    ├────K211179\n",
    "#      │    └────K193087\n",
    "#      │         └────K200941\n",
    "#      │              └────K221248\n",
    "#      └────K193658\n",
    "#           └────K210209"
   ]
  },
  {
   "cell_type": "code",
   "execution_count": 32,
   "metadata": {},
   "outputs": [
    {
     "name": "stdout",
     "output_type": "stream",
     "text": [
      "38\n"
     ]
    }
   ],
   "source": [
    "print(len(get_nums('QAS', 100)))"
   ]
  },
  {
   "cell_type": "code",
   "execution_count": 88,
   "metadata": {},
   "outputs": [],
   "source": [
    "def form_tree(pcode: str):\n",
    "    nums = get_nums(pcode, 100)\n",
    "\n",
    "    adj_list = defaultdict(list)\n",
    "    visited = set()\n",
    "    in_degree = defaultdict(int)\n",
    "\n",
    "    for i, num in enumerate(nums):\n",
    "        print(f'Starting new path at {num}, iter {i+1}/{len(nums)}')\n",
    "        path = to_root(num)\n",
    "        print(path, '\\n')\n",
    "\n",
    "        for i in range(len(path)-1, 0, -1):\n",
    "            parent, child = path[i], path[i-1]\n",
    "            visited.update([parent, child])\n",
    "            in_degree[child] += 1\n",
    "            if child not in adj_list[parent]:\n",
    "                adj_list[parent].append(child)\n",
    "\n",
    "    for node in visited:\n",
    "        if in_degree[node] == 0: \n",
    "            adj_list[pcode].append(node)\n",
    "\n",
    "    return adj_list\n"
   ]
  },
  {
   "cell_type": "code",
   "execution_count": 89,
   "metadata": {},
   "outputs": [
    {
     "name": "stdout",
     "output_type": "stream",
     "text": [
      "Starting new path at K213795, iter 1/5\n",
      "['K213795', 'P980025'] \n",
      "\n",
      "Starting new path at K210666, iter 2/5\n",
      "['K210666', 'P000041'] \n",
      "\n",
      "Starting new path at K212519, iter 3/5\n",
      "['K212519', 'P980025'] \n",
      "\n",
      "Starting new path at K201560, iter 4/5\n",
      "['K201560', 'P000041'] \n",
      "\n",
      "Starting new path at K210365, iter 5/5\n",
      "['K210365', 'P980025'] \n",
      "\n"
     ]
    }
   ],
   "source": [
    "adj_list = form_tree('MYN')"
   ]
  },
  {
   "cell_type": "code",
   "execution_count": 91,
   "metadata": {},
   "outputs": [
    {
     "name": "stdout",
     "output_type": "stream",
     "text": [
      "Starting new path at K192383, iter 1/38\n",
      "['K192383', 'K180647', 'DEN170073'] \n",
      "\n",
      "Starting new path at K193658, iter 2/38\n",
      "['K193658', 'DEN170073'] \n",
      "\n",
      "Starting new path at K203260, iter 3/38\n",
      "['K203260', 'K182177', 'DEN170073'] \n",
      "\n",
      "Starting new path at K200855, iter 4/38\n",
      "['K200855', 'K180647', 'DEN170073'] \n",
      "\n",
      "Starting new path at K791354, iter 5/38\n",
      "could not open pdf for K791354\n",
      "['K791354'] \n",
      "\n",
      "Starting new path at K190896, iter 6/38\n",
      "['K190896', 'K180647', 'DEN170073'] \n",
      "\n",
      "Starting new path at K221314, iter 7/38\n",
      "['K221314', 'K203508', 'K190072', 'K180647', 'DEN170073'] \n",
      "\n",
      "Starting new path at K190072, iter 8/38\n",
      "['K190072', 'K180647', 'DEN170073'] \n",
      "\n",
      "Starting new path at K890414, iter 9/38\n",
      "could not open pdf for K890414\n",
      "['K890414'] \n",
      "\n",
      "Starting new path at K221240, iter 10/38\n",
      "['K221240', 'K203508', 'K190072', 'K180647', 'DEN170073'] \n",
      "\n",
      "Starting new path at K213886, iter 11/38\n",
      "['K213886', 'K203508', 'K190072', 'K180647', 'DEN170073'] \n",
      "\n",
      "Starting new path at K193087, iter 12/38\n",
      "['K193087', 'K180647', 'DEN170073'] \n",
      "\n",
      "Starting new path at K193298, iter 13/38\n",
      "['K193298', 'K180647', 'DEN170073'] \n",
      "\n",
      "Starting new path at K200941, iter 14/38\n",
      "['K200941', 'K193087', 'K180647', 'DEN170073'] \n",
      "\n",
      "Starting new path at K192167, iter 15/38\n",
      "['K192167', 'K182177', 'DEN170073'] \n",
      "\n",
      "Starting new path at K790840, iter 16/38\n",
      "could not open pdf for K790840\n",
      "['K790840'] \n",
      "\n",
      "Starting new path at K936002, iter 17/38\n",
      "could not open pdf for K936002\n",
      "['K936002'] \n",
      "\n",
      "Starting new path at K220499, iter 18/38\n",
      "['K220499', 'K190072', 'K180647', 'DEN170073'] \n",
      "\n",
      "Starting new path at K800657, iter 19/38\n",
      "could not open pdf for K800657\n",
      "['K800657'] \n",
      "\n",
      "Starting new path at K190424, iter 20/38\n",
      "['K190424', 'K182177', 'DEN170073'] \n",
      "\n",
      "Starting new path at K211788, iter 21/38\n",
      "['K211788'] \n",
      "\n",
      "Starting new path at K213721, iter 22/38\n",
      "['K213721', 'K203508', 'K190072', 'K180647', 'DEN170073'] \n",
      "\n",
      "Starting new path at K212261, iter 23/38\n",
      "['K212261', 'DEN170073'] \n",
      "\n",
      "Starting new path at K201020, iter 24/38\n",
      "['K201020', 'K190072', 'K180647', 'DEN170073'] \n",
      "\n",
      "Starting new path at K201310, iter 25/38\n",
      "['K201310', 'K182177', 'DEN170073'] \n",
      "\n",
      "Starting new path at K182177, iter 26/38\n",
      "['K182177', 'DEN170073'] \n",
      "\n",
      "Starting new path at K193351, iter 27/38\n",
      "['K193351', 'K180647', 'DEN170073'] \n",
      "\n",
      "Starting new path at K182875, iter 28/38\n",
      "['K182875', 'DEN170073'] \n",
      "\n",
      "Starting new path at K210209, iter 29/38\n",
      "['K210209', 'K193658', 'DEN170073'] \n",
      "\n",
      "Starting new path at K200873, iter 30/38\n",
      "['K200873', 'DEN170073'] \n",
      "\n",
      "Starting new path at DEN170073, iter 31/38\n",
      "['DEN170073'] \n",
      "\n",
      "Starting new path at K200921, iter 32/38\n",
      "['K200921', 'K180647', 'DEN170073'] \n",
      "\n",
      "Starting new path at K800708, iter 33/38\n",
      "could not open pdf for K800708\n",
      "['K800708'] \n",
      "\n",
      "Starting new path at K203508, iter 34/38\n",
      "['K203508', 'K190072', 'K180647', 'DEN170073'] \n",
      "\n",
      "Starting new path at K221248, iter 35/38\n",
      "['K221248', 'K200941', 'K193087', 'K180647', 'DEN170073'] \n",
      "\n",
      "Starting new path at K210237, iter 36/38\n",
      "['K210237', 'K190072', 'K180647', 'DEN170073'] \n",
      "\n",
      "Starting new path at K180647, iter 37/38\n",
      "['K180647', 'DEN170073'] \n",
      "\n",
      "Starting new path at K211179, iter 38/38\n",
      "['K211179', 'K180647', 'DEN170073'] \n",
      "\n"
     ]
    }
   ],
   "source": [
    "adj_list = form_tree('QAS')"
   ]
  },
  {
   "cell_type": "code",
   "execution_count": 92,
   "metadata": {},
   "outputs": [
    {
     "data": {
      "text/plain": [
       "defaultdict(list,\n",
       "            {'DEN170073': ['K180647',\n",
       "              'K193658',\n",
       "              'K182177',\n",
       "              'K212261',\n",
       "              'K182875',\n",
       "              'K200873'],\n",
       "             'K180647': ['K192383',\n",
       "              'K200855',\n",
       "              'K190896',\n",
       "              'K190072',\n",
       "              'K193087',\n",
       "              'K193298',\n",
       "              'K193351',\n",
       "              'K200921',\n",
       "              'K211179'],\n",
       "             'K182177': ['K203260', 'K192167', 'K190424', 'K201310'],\n",
       "             'K190072': ['K203508', 'K220499', 'K201020', 'K210237'],\n",
       "             'K203508': ['K221314', 'K221240', 'K213886', 'K213721'],\n",
       "             'K193087': ['K200941'],\n",
       "             'K193658': ['K210209'],\n",
       "             'K200941': ['K221248'],\n",
       "             'QAS': ['DEN170073']})"
      ]
     },
     "execution_count": 92,
     "metadata": {},
     "output_type": "execute_result"
    }
   ],
   "source": [
    "adj_list"
   ]
  },
  {
   "cell_type": "code",
   "execution_count": 118,
   "metadata": {},
   "outputs": [],
   "source": [
    "import networkx as nx\n",
    "from pyvis.network import Network"
   ]
  },
  {
   "cell_type": "code",
   "execution_count": 136,
   "metadata": {},
   "outputs": [],
   "source": [
    "DEFAULT = 50\n",
    "SIZE_DICT = {0: 400, 1: 200, 2: 100}\n",
    "\n",
    "def graph_info(adj_list, pcode):\n",
    "    nodes = []\n",
    "    values = []\n",
    "\n",
    "    stk = []\n",
    "    stk.append((pcode, 0))\n",
    "\n",
    "    while stk:\n",
    "        node, level = stk.pop()\n",
    "        if node in nodes: continue\n",
    "\n",
    "        nodes.append(node)\n",
    "        values.append(SIZE_DICT[level]) if level <= 2 else values.append(DEFAULT)\n",
    "\n",
    "        for child in adj_list[node]:\n",
    "            stk.append((child, level+1))\n",
    "\n",
    "    return nodes, values"
   ]
  },
  {
   "cell_type": "code",
   "execution_count": 140,
   "metadata": {},
   "outputs": [],
   "source": [
    "nodes, values = graph_info(adj_list, 'QAS')"
   ]
  },
  {
   "cell_type": "code",
   "execution_count": 127,
   "metadata": {},
   "outputs": [],
   "source": [
    "class GraphVisual:\n",
    "    def __init__(self, pcode):\n",
    "        self.edges = []\n",
    "        self.name = pcode\n",
    "\n",
    "    def add_edge(self, a, b):\n",
    "        self.edges.append([a,b])\n",
    "\n",
    "    def visualize(self):\n",
    "        G = nx.Graph()\n",
    "        G.add_edges_from(self.edges)\n",
    "\n",
    "        net = Network(notebook=True)\n",
    "        net.from_nx(G)\n",
    "        net.show(f'{self.name}.html')\n"
   ]
  },
  {
   "cell_type": "code",
   "execution_count": 129,
   "metadata": {},
   "outputs": [],
   "source": [
    "G = GraphVisual('QAS')\n",
    "\n",
    "for parent in adj_list:\n",
    "    for child in adj_list[parent]:\n",
    "        G.add_edge(parent, child)\n",
    "\n",
    "G.visualize()"
   ]
  },
  {
   "cell_type": "code",
   "execution_count": null,
   "metadata": {},
   "outputs": [],
   "source": []
  }
 ],
 "metadata": {
  "kernelspec": {
   "display_name": "Python 3.9.12 ('base')",
   "language": "python",
   "name": "python3"
  },
  "language_info": {
   "codemirror_mode": {
    "name": "ipython",
    "version": 3
   },
   "file_extension": ".py",
   "mimetype": "text/x-python",
   "name": "python",
   "nbconvert_exporter": "python",
   "pygments_lexer": "ipython3",
   "version": "3.9.12"
  },
  "orig_nbformat": 4,
  "vscode": {
   "interpreter": {
    "hash": "3c96f106d5038f1a08e9b5f35285d94ed7ed79220ac5e2b227cacc776d5e1b04"
   }
  }
 },
 "nbformat": 4,
 "nbformat_minor": 2
}
