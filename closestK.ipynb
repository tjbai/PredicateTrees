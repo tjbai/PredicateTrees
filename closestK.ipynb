{
 "cells": [
  {
   "cell_type": "markdown",
   "metadata": {},
   "source": [
    "# Finding the predicate..."
   ]
  },
  {
   "cell_type": "code",
   "execution_count": 77,
   "metadata": {},
   "outputs": [],
   "source": [
    "import pandas as pd\n",
    "from typing import List\n",
    "import tempfile\n",
    "import urllib.request\n",
    "from os import path\n",
    "import PyPDF2 as ppdf\n",
    "import re\n",
    "import json\n",
    "from collections import defaultdict"
   ]
  },
  {
   "cell_type": "code",
   "execution_count": 97,
   "metadata": {},
   "outputs": [],
   "source": [
    "def find_predicate(pcode: str) -> List[str]:\n",
    "\n",
    "    # Extract year from product code\n",
    "    if pcode[0] == 'K': yr = pcode[1:3]\n",
    "    else: return None\n",
    "\n",
    "    url = f'https://www.accessdata.fda.gov/cdrh_docs/pdf{yr}/{pcode}.pdf'\n",
    "    print(url)\n",
    "\n",
    "    # Pull PDF data\n",
    "    response = urllib.request.urlopen(url)\n",
    "    pg_data = response.read()\n",
    "\n",
    "    # Write to tempfile object\n",
    "    temp_file = path.join(tempfile.gettempdir(), 'temp.pdf')\n",
    "    pdf_file = open(temp_file, 'wb')\n",
    "    pdf_file.write(pg_data)\n",
    "\n",
    "    found = []\n",
    "    doc = ppdf.PdfFileReader(open(temp_file, 'rb'))\n",
    "    for pg in doc.pages:\n",
    "        try:\n",
    "            pg_content = (pg.extract_text() + '\\n').upper()\n",
    "            regex = re.search('PREDICATE', pg_content)\n",
    "\n",
    "            # Find all product codes after each occurrence of 'predicate' sorted in order of appearance\n",
    "            if regex is not None:\n",
    "                pcodes = re.findall('(P|DEN|K)([0-9]{6})', pg_content[regex.span()[1]:])\n",
    "                if len(pcodes): found.append(pcodes[0][0]+pcodes[0][1])\n",
    "\n",
    "        except Exception as e:\n",
    "            print(f'issue finding predicate for {pcode}: {e}')\n",
    "\n",
    "    # Return most occuring element in found, just an extra layer of assurance\n",
    "    return max(set(found), key = found.count) if len(found) else None\n"
   ]
  },
  {
   "cell_type": "code",
   "execution_count": 91,
   "metadata": {},
   "outputs": [],
   "source": [
    "def get_nums(pcode: str, limit: int) -> List[str]:\n",
    "    url = f'https://api.fda.gov/device/510k.json?search={pcode}&limit={limit}'\n",
    "\n",
    "    response = urllib.request.urlopen(url)\n",
    "    db = json.loads(response.read())\n",
    "\n",
    "    return [d[\"k_number\"] for d in db[\"results\"]]"
   ]
  },
  {
   "cell_type": "code",
   "execution_count": 41,
   "metadata": {},
   "outputs": [],
   "source": [
    "def to_root(src: str): \n",
    "    res = [src]\n",
    "\n",
    "    while res[-1][0] == 'K':\n",
    "        pred = find_predicate(res[-1])\n",
    "        if pred is None: break\n",
    "        res.append(pred)\n",
    "\n",
    "    return res"
   ]
  },
  {
   "cell_type": "code",
   "execution_count": null,
   "metadata": {},
   "outputs": [],
   "source": [
    "# MYN\n",
    "# ├────P000041\n",
    "# │  ├────K201560\n",
    "# │  └────K210666\n",
    "# └────P980025\n",
    "#    ├────K212519\n",
    "#    ├────K213795\n",
    "#    └────K210365"
   ]
  },
  {
   "cell_type": "code",
   "execution_count": null,
   "metadata": {},
   "outputs": [],
   "source": [
    "# QAS\n",
    "# └────DEN170073\n",
    "#      ├────K182177\n",
    "#      │    ├────K203260\n",
    "#      │    ├────K201310\n",
    "#      │    └────K190424\n",
    "#      ├────K200873\n",
    "#      │    └────K211788\n",
    "#      ├────K212261\n",
    "#      ├────K180647\n",
    "#      │    ├────K193298\n",
    "#      │    ├────K190896\n",
    "#      │    ├────K193351\n",
    "#      │    ├────K200855\n",
    "#      │    ├────K203508\n",
    "#      │    │    ├────K221240\n",
    "#      │    │    ├────K213886\n",
    "#      │    │    ├────K213721\n",
    "#      │    │    └────K221314\n",
    "#      │    ├────K192167\n",
    "#      │    ├────K200921\n",
    "#      │    ├────K192383\n",
    "#      │    ├────K182875\n",
    "#      │    ├────K190072\n",
    "#      │    │    ├────K210237\n",
    "#      │    │    ├────K220499\n",
    "#      │    │    └────K201020\n",
    "#      │    ├────K211179\n",
    "#      │    └────K193087\n",
    "#      │         └────K200941\n",
    "#      │              └────K221248\n",
    "#      └────K193658\n",
    "#           └────K210209"
   ]
  },
  {
   "cell_type": "code",
   "execution_count": 92,
   "metadata": {},
   "outputs": [
    {
     "name": "stdout",
     "output_type": "stream",
     "text": [
      "['K192383', 'K193658', 'K203260', 'K200855', 'K791354', 'K190896', 'K221314', 'K190072', 'K890414', 'K221240', 'K213886', 'K193087', 'K193298', 'K200941', 'K192167', 'K790840', 'K936002', 'K220499', 'K800657', 'K190424', 'K211788', 'K213721', 'K212261', 'K201020', 'K201310', 'K182177', 'K193351', 'K182875', 'K210209', 'K200873', 'DEN170073', 'K200921', 'K800708', 'K203508', 'K221248', 'K210237', 'K180647', 'K211179']\n"
     ]
    }
   ],
   "source": [
    "print(get_nums('QAS', 100))"
   ]
  },
  {
   "cell_type": "code",
   "execution_count": 105,
   "metadata": {},
   "outputs": [],
   "source": [
    "def form_tree(pcode: str):\n",
    "    nums = get_nums(pcode, 100)\n",
    "\n",
    "    adj_list = defaultdict(list)\n",
    "    degree = defaultdict(int)\n",
    "\n",
    "    for num in nums:\n",
    "        print(f'STARTING NEW PATH AT {num}')\n",
    "        path = to_root(num)\n",
    "        print(path, '\\n')\n",
    "\n",
    "    print(adj_list)\n"
   ]
  },
  {
   "cell_type": "code",
   "execution_count": 106,
   "metadata": {},
   "outputs": [
    {
     "name": "stdout",
     "output_type": "stream",
     "text": [
      "STARTING NEW PATH AT K192383\n",
      "https://www.accessdata.fda.gov/cdrh_docs/pdf19/K192383.pdf\n",
      "issue finding predicate for K192383: '/W'\n",
      "https://www.accessdata.fda.gov/cdrh_docs/pdf18/K180647.pdf\n",
      "issue finding predicate for K180647: '/W'\n",
      "['K192383', 'K180647', 'DEN170073'] \n",
      "\n",
      "STARTING NEW PATH AT K193658\n",
      "https://www.accessdata.fda.gov/cdrh_docs/pdf19/K193658.pdf\n",
      "issue finding predicate for K193658: '/W'\n",
      "['K193658', 'DEN170073'] \n",
      "\n",
      "STARTING NEW PATH AT K203260\n",
      "https://www.accessdata.fda.gov/cdrh_docs/pdf20/K203260.pdf\n",
      "https://www.accessdata.fda.gov/cdrh_docs/pdf18/K182177.pdf\n",
      "issue finding predicate for K182177: '/W'\n",
      "['K203260', 'K182177', 'DEN170073'] \n",
      "\n",
      "STARTING NEW PATH AT K200855\n",
      "https://www.accessdata.fda.gov/cdrh_docs/pdf20/K200855.pdf\n",
      "issue finding predicate for K200855: '/W'\n",
      "https://www.accessdata.fda.gov/cdrh_docs/pdf18/K180647.pdf\n",
      "issue finding predicate for K180647: '/W'\n",
      "['K200855', 'K180647', 'DEN170073'] \n",
      "\n",
      "STARTING NEW PATH AT K791354\n",
      "https://www.accessdata.fda.gov/cdrh_docs/pdf79/K791354.pdf\n"
     ]
    },
    {
     "ename": "PdfReadError",
     "evalue": "PDF starts with '﻿<!', but '%PDF-' expected",
     "output_type": "error",
     "traceback": [
      "\u001b[0;31m---------------------------------------------------------------------------\u001b[0m",
      "\u001b[0;31mPdfReadError\u001b[0m                              Traceback (most recent call last)",
      "\u001b[1;32m/Users/bai/Desktop/fda/closestK.ipynb Cell 10\u001b[0m in \u001b[0;36m<cell line: 1>\u001b[0;34m()\u001b[0m\n\u001b[0;32m----> <a href='vscode-notebook-cell:/Users/bai/Desktop/fda/closestK.ipynb#ch0000016?line=0'>1</a>\u001b[0m form_tree(\u001b[39m'\u001b[39;49m\u001b[39mQAS\u001b[39;49m\u001b[39m'\u001b[39;49m)\n",
      "\u001b[1;32m/Users/bai/Desktop/fda/closestK.ipynb Cell 10\u001b[0m in \u001b[0;36mform_tree\u001b[0;34m(pcode)\u001b[0m\n\u001b[1;32m      <a href='vscode-notebook-cell:/Users/bai/Desktop/fda/closestK.ipynb#ch0000016?line=6'>7</a>\u001b[0m \u001b[39mfor\u001b[39;00m num \u001b[39min\u001b[39;00m nums:\n\u001b[1;32m      <a href='vscode-notebook-cell:/Users/bai/Desktop/fda/closestK.ipynb#ch0000016?line=7'>8</a>\u001b[0m     \u001b[39mprint\u001b[39m(\u001b[39mf\u001b[39m\u001b[39m'\u001b[39m\u001b[39mSTARTING NEW PATH AT \u001b[39m\u001b[39m{\u001b[39;00mnum\u001b[39m}\u001b[39;00m\u001b[39m'\u001b[39m)\n\u001b[0;32m----> <a href='vscode-notebook-cell:/Users/bai/Desktop/fda/closestK.ipynb#ch0000016?line=8'>9</a>\u001b[0m     path \u001b[39m=\u001b[39m to_root(num)\n\u001b[1;32m     <a href='vscode-notebook-cell:/Users/bai/Desktop/fda/closestK.ipynb#ch0000016?line=9'>10</a>\u001b[0m     \u001b[39mprint\u001b[39m(path, \u001b[39m'\u001b[39m\u001b[39m\\n\u001b[39;00m\u001b[39m'\u001b[39m)\n\u001b[1;32m     <a href='vscode-notebook-cell:/Users/bai/Desktop/fda/closestK.ipynb#ch0000016?line=11'>12</a>\u001b[0m \u001b[39mprint\u001b[39m(adj_list)\n",
      "\u001b[1;32m/Users/bai/Desktop/fda/closestK.ipynb Cell 10\u001b[0m in \u001b[0;36mto_root\u001b[0;34m(src)\u001b[0m\n\u001b[1;32m      <a href='vscode-notebook-cell:/Users/bai/Desktop/fda/closestK.ipynb#ch0000016?line=3'>4</a>\u001b[0m res \u001b[39m=\u001b[39m [src]\n\u001b[1;32m      <a href='vscode-notebook-cell:/Users/bai/Desktop/fda/closestK.ipynb#ch0000016?line=5'>6</a>\u001b[0m \u001b[39mwhile\u001b[39;00m res[\u001b[39m-\u001b[39m\u001b[39m1\u001b[39m][\u001b[39m0\u001b[39m] \u001b[39m==\u001b[39m \u001b[39m'\u001b[39m\u001b[39mK\u001b[39m\u001b[39m'\u001b[39m:\n\u001b[0;32m----> <a href='vscode-notebook-cell:/Users/bai/Desktop/fda/closestK.ipynb#ch0000016?line=6'>7</a>\u001b[0m     pred \u001b[39m=\u001b[39m find_predicate(res[\u001b[39m-\u001b[39;49m\u001b[39m1\u001b[39;49m])\n\u001b[1;32m      <a href='vscode-notebook-cell:/Users/bai/Desktop/fda/closestK.ipynb#ch0000016?line=7'>8</a>\u001b[0m     \u001b[39mif\u001b[39;00m pred \u001b[39mis\u001b[39;00m \u001b[39mNone\u001b[39;00m: \u001b[39mbreak\u001b[39;00m\n\u001b[1;32m      <a href='vscode-notebook-cell:/Users/bai/Desktop/fda/closestK.ipynb#ch0000016?line=8'>9</a>\u001b[0m     res\u001b[39m.\u001b[39mappend(pred)\n",
      "\u001b[1;32m/Users/bai/Desktop/fda/closestK.ipynb Cell 10\u001b[0m in \u001b[0;36mfind_predicate\u001b[0;34m(pcode)\u001b[0m\n\u001b[1;32m     <a href='vscode-notebook-cell:/Users/bai/Desktop/fda/closestK.ipynb#ch0000016?line=16'>17</a>\u001b[0m pdf_file\u001b[39m.\u001b[39mwrite(pg_data)\n\u001b[1;32m     <a href='vscode-notebook-cell:/Users/bai/Desktop/fda/closestK.ipynb#ch0000016?line=18'>19</a>\u001b[0m found \u001b[39m=\u001b[39m []\n\u001b[0;32m---> <a href='vscode-notebook-cell:/Users/bai/Desktop/fda/closestK.ipynb#ch0000016?line=19'>20</a>\u001b[0m doc \u001b[39m=\u001b[39m ppdf\u001b[39m.\u001b[39;49mPdfFileReader(\u001b[39mopen\u001b[39;49m(temp_file, \u001b[39m'\u001b[39;49m\u001b[39mrb\u001b[39;49m\u001b[39m'\u001b[39;49m))\n\u001b[1;32m     <a href='vscode-notebook-cell:/Users/bai/Desktop/fda/closestK.ipynb#ch0000016?line=20'>21</a>\u001b[0m \u001b[39mfor\u001b[39;00m pg \u001b[39min\u001b[39;00m doc\u001b[39m.\u001b[39mpages:\n\u001b[1;32m     <a href='vscode-notebook-cell:/Users/bai/Desktop/fda/closestK.ipynb#ch0000016?line=21'>22</a>\u001b[0m     \u001b[39mtry\u001b[39;00m:\n",
      "File \u001b[0;32m~/opt/anaconda3/lib/python3.9/site-packages/PyPDF2/_reader.py:1695\u001b[0m, in \u001b[0;36mPdfFileReader.__init__\u001b[0;34m(self, *args, **kwargs)\u001b[0m\n\u001b[1;32m   1693\u001b[0m \u001b[39mif\u001b[39;00m \u001b[39m\"\u001b[39m\u001b[39mstrict\u001b[39m\u001b[39m\"\u001b[39m \u001b[39mnot\u001b[39;00m \u001b[39min\u001b[39;00m kwargs \u001b[39mand\u001b[39;00m \u001b[39mlen\u001b[39m(args) \u001b[39m<\u001b[39m \u001b[39m2\u001b[39m:\n\u001b[1;32m   1694\u001b[0m     kwargs[\u001b[39m\"\u001b[39m\u001b[39mstrict\u001b[39m\u001b[39m\"\u001b[39m] \u001b[39m=\u001b[39m \u001b[39mTrue\u001b[39;00m  \u001b[39m# maintain the default\u001b[39;00m\n\u001b[0;32m-> 1695\u001b[0m \u001b[39msuper\u001b[39;49m()\u001b[39m.\u001b[39;49m\u001b[39m__init__\u001b[39;49m(\u001b[39m*\u001b[39;49margs, \u001b[39m*\u001b[39;49m\u001b[39m*\u001b[39;49mkwargs)\n",
      "File \u001b[0;32m~/opt/anaconda3/lib/python3.9/site-packages/PyPDF2/_reader.py:268\u001b[0m, in \u001b[0;36mPdfReader.__init__\u001b[0;34m(self, stream, strict, password)\u001b[0m\n\u001b[1;32m    266\u001b[0m     \u001b[39mwith\u001b[39;00m \u001b[39mopen\u001b[39m(stream, \u001b[39m\"\u001b[39m\u001b[39mrb\u001b[39m\u001b[39m\"\u001b[39m) \u001b[39mas\u001b[39;00m fh:\n\u001b[1;32m    267\u001b[0m         stream \u001b[39m=\u001b[39m BytesIO(fh\u001b[39m.\u001b[39mread())\n\u001b[0;32m--> 268\u001b[0m \u001b[39mself\u001b[39;49m\u001b[39m.\u001b[39;49mread(stream)\n\u001b[1;32m    269\u001b[0m \u001b[39mself\u001b[39m\u001b[39m.\u001b[39mstream \u001b[39m=\u001b[39m stream\n\u001b[1;32m    271\u001b[0m \u001b[39mself\u001b[39m\u001b[39m.\u001b[39m_override_encryption \u001b[39m=\u001b[39m \u001b[39mFalse\u001b[39;00m\n",
      "File \u001b[0;32m~/opt/anaconda3/lib/python3.9/site-packages/PyPDF2/_reader.py:1220\u001b[0m, in \u001b[0;36mPdfReader.read\u001b[0;34m(self, stream)\u001b[0m\n\u001b[1;32m   1218\u001b[0m     header_byte \u001b[39m=\u001b[39m stream\u001b[39m.\u001b[39mread(\u001b[39m5\u001b[39m)\n\u001b[1;32m   1219\u001b[0m     \u001b[39mif\u001b[39;00m header_byte \u001b[39m!=\u001b[39m \u001b[39mb\u001b[39m\u001b[39m\"\u001b[39m\u001b[39m%\u001b[39m\u001b[39mPDF-\u001b[39m\u001b[39m\"\u001b[39m:\n\u001b[0;32m-> 1220\u001b[0m         \u001b[39mraise\u001b[39;00m PdfReadError(\n\u001b[1;32m   1221\u001b[0m             \u001b[39mf\u001b[39m\u001b[39m\"\u001b[39m\u001b[39mPDF starts with \u001b[39m\u001b[39m'\u001b[39m\u001b[39m{\u001b[39;00mheader_byte\u001b[39m.\u001b[39mdecode(\u001b[39m'\u001b[39m\u001b[39mutf8\u001b[39m\u001b[39m'\u001b[39m)\u001b[39m}\u001b[39;00m\u001b[39m'\u001b[39m\u001b[39m, \u001b[39m\u001b[39m\"\u001b[39m\n\u001b[1;32m   1222\u001b[0m             \u001b[39m\"\u001b[39m\u001b[39mbut \u001b[39m\u001b[39m'\u001b[39m\u001b[39m%\u001b[39m\u001b[39mPDF-\u001b[39m\u001b[39m'\u001b[39m\u001b[39m expected\u001b[39m\u001b[39m\"\u001b[39m\n\u001b[1;32m   1223\u001b[0m         )\n\u001b[1;32m   1224\u001b[0m     stream\u001b[39m.\u001b[39mseek(\u001b[39m0\u001b[39m, os\u001b[39m.\u001b[39mSEEK_END)\n\u001b[1;32m   1225\u001b[0m last_mb \u001b[39m=\u001b[39m stream\u001b[39m.\u001b[39mtell() \u001b[39m-\u001b[39m \u001b[39m1024\u001b[39m \u001b[39m*\u001b[39m \u001b[39m1024\u001b[39m \u001b[39m+\u001b[39m \u001b[39m1\u001b[39m  \u001b[39m# offset of last MB of stream\u001b[39;00m\n",
      "\u001b[0;31mPdfReadError\u001b[0m: PDF starts with '﻿<!', but '%PDF-' expected"
     ]
    }
   ],
   "source": [
    "form_tree('QAS')"
   ]
  },
  {
   "cell_type": "code",
   "execution_count": null,
   "metadata": {},
   "outputs": [],
   "source": []
  }
 ],
 "metadata": {
  "kernelspec": {
   "display_name": "Python 3.9.12 ('base')",
   "language": "python",
   "name": "python3"
  },
  "language_info": {
   "codemirror_mode": {
    "name": "ipython",
    "version": 3
   },
   "file_extension": ".py",
   "mimetype": "text/x-python",
   "name": "python",
   "nbconvert_exporter": "python",
   "pygments_lexer": "ipython3",
   "version": "3.9.12"
  },
  "orig_nbformat": 4,
  "vscode": {
   "interpreter": {
    "hash": "3c96f106d5038f1a08e9b5f35285d94ed7ed79220ac5e2b227cacc776d5e1b04"
   }
  }
 },
 "nbformat": 4,
 "nbformat_minor": 2
}
