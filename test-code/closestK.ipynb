{
 "cells": [
  {
   "cell_type": "markdown",
   "metadata": {},
   "source": [
    "# Finding the predicate..."
   ]
  },
  {
   "cell_type": "code",
   "execution_count": 52,
   "metadata": {},
   "outputs": [],
   "source": [
    "import pandas as pd\n",
    "from typing import List\n",
    "import tempfile\n",
    "import urllib.request\n",
    "from os import path\n",
    "import PyPDF2 as ppdf\n",
    "import re\n",
    "import json\n",
    "from collections import defaultdict\n",
    "from tqdm import tqdm"
   ]
  },
  {
   "cell_type": "code",
   "execution_count": 2,
   "metadata": {},
   "outputs": [],
   "source": [
    "def find_predicate(pcode: str) -> str:\n",
    "\n",
    "    # Extract year from product code\n",
    "    if pcode[0] == 'K': yr = pcode[1:3]\n",
    "    else: return None\n",
    "\n",
    "    url = f'https://www.accessdata.fda.gov/cdrh_docs/pdf{yr}/{pcode}.pdf'\n",
    "    # print(url)\n",
    "\n",
    "    # Pull PDF data\n",
    "    response = urllib.request.urlopen(url)\n",
    "    pg_data = response.read()\n",
    "\n",
    "    # Write to tempfile object\n",
    "    temp_file = path.join(tempfile.gettempdir(), 'temp.pdf')\n",
    "    pdf_file = open(temp_file, 'wb')\n",
    "    pdf_file.write(pg_data)\n",
    "\n",
    "    found = []\n",
    "\n",
    "    # In case the document is too old\n",
    "    try: \n",
    "        doc = ppdf.PdfFileReader(open(temp_file, 'rb'))\n",
    "    except Exception as e: \n",
    "        print(f'could not open pdf for {pcode}')\n",
    "        return None\n",
    "\n",
    "    for pg in doc.pages:\n",
    "        try:\n",
    "            pg_content = (pg.extract_text() + '\\n').upper()\n",
    "            regex = re.search('PREDICATE', pg_content)\n",
    "\n",
    "            # Find all product codes after each occurrence of 'predicate' sorted in order of appearance\n",
    "            if regex is not None:\n",
    "                chunks = re.findall('(P|DEN|K)([0-9]{6})', pg_content[regex.span()[1]:])\n",
    "                pcodes = [p1+p2 for p1,p2 in chunks]\n",
    "                for cand in pcodes:\n",
    "                    if cand != pcode: \n",
    "                        found.append(cand)\n",
    "                        break\n",
    "\n",
    "        except Exception as e:\n",
    "            # print(f'issue finding predicate for {pcode}: {e}')\n",
    "            pass\n",
    "\n",
    "    # Return most occuring element in found, just an extra layer of assurance\n",
    "    return max(set(found), key = found.count) if len(found) else None\n"
   ]
  },
  {
   "cell_type": "code",
   "execution_count": 3,
   "metadata": {},
   "outputs": [],
   "source": [
    "def get_nums(pcode: str, limit: int) -> List[str]:\n",
    "    url = f'https://api.fda.gov/device/510k.json?search={pcode}&limit={limit}'\n",
    "\n",
    "    response = urllib.request.urlopen(url)\n",
    "    db = json.loads(response.read())\n",
    "\n",
    "    return [d[\"k_number\"] for d in db[\"results\"]]"
   ]
  },
  {
   "cell_type": "code",
   "execution_count": 4,
   "metadata": {},
   "outputs": [],
   "source": [
    "def to_root(src: str): \n",
    "    res = [src]\n",
    "\n",
    "    while res[-1][0] == 'K':\n",
    "        pred = find_predicate(res[-1])\n",
    "        if pred is None or pred in res: break\n",
    "        res.append(pred)\n",
    "\n",
    "    return res"
   ]
  },
  {
   "cell_type": "code",
   "execution_count": null,
   "metadata": {},
   "outputs": [],
   "source": [
    "# MYN\n",
    "# ├────P000041\n",
    "# │  ├────K201560\n",
    "# │  └────K210666\n",
    "# └────P980025\n",
    "#    ├────K212519\n",
    "#    ├────K213795\n",
    "#    └────K210365"
   ]
  },
  {
   "cell_type": "code",
   "execution_count": null,
   "metadata": {},
   "outputs": [],
   "source": [
    "# QAS\n",
    "# └────DEN170073\n",
    "#      ├────K182177\n",
    "#      │    ├────K203260\n",
    "#      │    ├────K201310\n",
    "#      │    └────K190424\n",
    "#      ├────K200873\n",
    "#      │    └────K211788\n",
    "#      ├────K212261\n",
    "#      ├────K180647\n",
    "#      │    ├────K193298\n",
    "#      │    ├────K190896\n",
    "#      │    ├────K193351\n",
    "#      │    ├────K200855\n",
    "#      │    ├────K203508\n",
    "#      │    │    ├────K221240\n",
    "#      │    │    ├────K213886\n",
    "#      │    │    ├────K213721\n",
    "#      │    │    └────K221314\n",
    "#      │    ├────K192167\n",
    "#      │    ├────K200921\n",
    "#      │    ├────K192383\n",
    "#      │    ├────K182875\n",
    "#      │    ├────K190072\n",
    "#      │    │    ├────K210237\n",
    "#      │    │    ├────K220499\n",
    "#      │    │    └────K201020\n",
    "#      │    ├────K211179\n",
    "#      │    └────K193087\n",
    "#      │         └────K200941\n",
    "#      │              └────K221248\n",
    "#      └────K193658\n",
    "#           └────K210209"
   ]
  },
  {
   "cell_type": "code",
   "execution_count": 5,
   "metadata": {},
   "outputs": [
    {
     "name": "stdout",
     "output_type": "stream",
     "text": [
      "38\n"
     ]
    }
   ],
   "source": [
    "print(len(get_nums('QAS', 100)))"
   ]
  },
  {
   "cell_type": "code",
   "execution_count": 62,
   "metadata": {},
   "outputs": [],
   "source": [
    "def form_tree(pcode, verbose = False):\n",
    "    nums = get_nums(pcode, 100)\n",
    "\n",
    "    adj_list = defaultdict(list)\n",
    "    visited = set()\n",
    "    in_degree = defaultdict(int)\n",
    "\n",
    "    for i, num in enumerate(nums):\n",
    "        path = to_root(num)\n",
    "\n",
    "        if verbose:\n",
    "            print(f'Starting new path at {num}, iter {i+1}/{len(nums)}')\n",
    "            print(path, '\\n')\n",
    "\n",
    "        for i in range(len(path)-1, 0, -1):\n",
    "            parent, child = path[i], path[i-1]\n",
    "            visited.update([parent, child])\n",
    "            in_degree[child] += 1\n",
    "            if child not in adj_list[parent]:\n",
    "                adj_list[parent].append(child)\n",
    "\n",
    "    for node in visited:\n",
    "        if in_degree[node] == 0: \n",
    "            adj_list[pcode].append(node)\n",
    "\n",
    "    return adj_list\n"
   ]
  },
  {
   "cell_type": "code",
   "execution_count": 89,
   "metadata": {},
   "outputs": [
    {
     "name": "stdout",
     "output_type": "stream",
     "text": [
      "Starting new path at K213795, iter 1/5\n",
      "['K213795', 'P980025'] \n",
      "\n",
      "Starting new path at K210666, iter 2/5\n",
      "['K210666', 'P000041'] \n",
      "\n",
      "Starting new path at K212519, iter 3/5\n",
      "['K212519', 'P980025'] \n",
      "\n",
      "Starting new path at K201560, iter 4/5\n",
      "['K201560', 'P000041'] \n",
      "\n",
      "Starting new path at K210365, iter 5/5\n",
      "['K210365', 'P980025'] \n",
      "\n"
     ]
    }
   ],
   "source": [
    "adj_list = form_tree('MYN')"
   ]
  },
  {
   "cell_type": "code",
   "execution_count": 7,
   "metadata": {},
   "outputs": [
    {
     "name": "stdout",
     "output_type": "stream",
     "text": [
      "Starting new path at K192383, iter 1/38\n",
      "['K192383', 'K180647', 'DEN170073'] \n",
      "\n",
      "Starting new path at K193658, iter 2/38\n",
      "['K193658', 'DEN170073'] \n",
      "\n",
      "Starting new path at K203260, iter 3/38\n",
      "['K203260', 'K182177', 'DEN170073'] \n",
      "\n",
      "Starting new path at K200855, iter 4/38\n",
      "['K200855', 'K180647', 'DEN170073'] \n",
      "\n",
      "Starting new path at K791354, iter 5/38\n",
      "could not open pdf for K791354\n",
      "['K791354'] \n",
      "\n",
      "Starting new path at K190896, iter 6/38\n",
      "['K190896', 'K180647', 'DEN170073'] \n",
      "\n",
      "Starting new path at K221314, iter 7/38\n",
      "['K221314', 'K203508', 'K190072', 'K180647', 'DEN170073'] \n",
      "\n",
      "Starting new path at K190072, iter 8/38\n",
      "['K190072', 'K180647', 'DEN170073'] \n",
      "\n",
      "Starting new path at K890414, iter 9/38\n",
      "could not open pdf for K890414\n",
      "['K890414'] \n",
      "\n",
      "Starting new path at K221240, iter 10/38\n",
      "['K221240', 'K203508', 'K190072', 'K180647', 'DEN170073'] \n",
      "\n",
      "Starting new path at K213886, iter 11/38\n",
      "['K213886', 'K203508', 'K190072', 'K180647', 'DEN170073'] \n",
      "\n",
      "Starting new path at K193087, iter 12/38\n",
      "['K193087', 'K180647', 'DEN170073'] \n",
      "\n",
      "Starting new path at K193298, iter 13/38\n",
      "['K193298', 'K180647', 'DEN170073'] \n",
      "\n",
      "Starting new path at K200941, iter 14/38\n",
      "['K200941', 'K193087', 'K180647', 'DEN170073'] \n",
      "\n",
      "Starting new path at K192167, iter 15/38\n",
      "['K192167', 'K182177', 'DEN170073'] \n",
      "\n",
      "Starting new path at K790840, iter 16/38\n",
      "could not open pdf for K790840\n",
      "['K790840'] \n",
      "\n",
      "Starting new path at K936002, iter 17/38\n",
      "could not open pdf for K936002\n",
      "['K936002'] \n",
      "\n",
      "Starting new path at K220499, iter 18/38\n",
      "['K220499', 'K190072', 'K180647', 'DEN170073'] \n",
      "\n",
      "Starting new path at K800657, iter 19/38\n",
      "could not open pdf for K800657\n",
      "['K800657'] \n",
      "\n",
      "Starting new path at K190424, iter 20/38\n",
      "['K190424', 'K182177', 'DEN170073'] \n",
      "\n",
      "Starting new path at K211788, iter 21/38\n",
      "['K211788'] \n",
      "\n",
      "Starting new path at K213721, iter 22/38\n",
      "['K213721', 'K203508', 'K190072', 'K180647', 'DEN170073'] \n",
      "\n",
      "Starting new path at K212261, iter 23/38\n",
      "['K212261', 'DEN170073'] \n",
      "\n",
      "Starting new path at K201020, iter 24/38\n",
      "['K201020', 'K190072', 'K180647', 'DEN170073'] \n",
      "\n",
      "Starting new path at K201310, iter 25/38\n",
      "['K201310', 'K182177', 'DEN170073'] \n",
      "\n",
      "Starting new path at K182177, iter 26/38\n",
      "['K182177', 'DEN170073'] \n",
      "\n",
      "Starting new path at K193351, iter 27/38\n",
      "['K193351', 'K180647', 'DEN170073'] \n",
      "\n",
      "Starting new path at K182875, iter 28/38\n",
      "['K182875', 'DEN170073'] \n",
      "\n",
      "Starting new path at K210209, iter 29/38\n",
      "['K210209', 'K193658', 'DEN170073'] \n",
      "\n",
      "Starting new path at K200873, iter 30/38\n",
      "['K200873', 'DEN170073'] \n",
      "\n",
      "Starting new path at DEN170073, iter 31/38\n",
      "['DEN170073'] \n",
      "\n",
      "Starting new path at K200921, iter 32/38\n",
      "['K200921', 'K180647', 'DEN170073'] \n",
      "\n",
      "Starting new path at K800708, iter 33/38\n",
      "could not open pdf for K800708\n",
      "['K800708'] \n",
      "\n",
      "Starting new path at K203508, iter 34/38\n",
      "['K203508', 'K190072', 'K180647', 'DEN170073'] \n",
      "\n",
      "Starting new path at K221248, iter 35/38\n",
      "['K221248', 'K200941', 'K193087', 'K180647', 'DEN170073'] \n",
      "\n",
      "Starting new path at K210237, iter 36/38\n",
      "['K210237', 'K190072', 'K180647', 'DEN170073'] \n",
      "\n",
      "Starting new path at K180647, iter 37/38\n",
      "['K180647', 'DEN170073'] \n",
      "\n",
      "Starting new path at K211179, iter 38/38\n",
      "['K211179', 'K180647', 'DEN170073'] \n",
      "\n"
     ]
    }
   ],
   "source": [
    "adj_list = form_tree('QAS')"
   ]
  },
  {
   "cell_type": "code",
   "execution_count": 8,
   "metadata": {},
   "outputs": [
    {
     "data": {
      "text/plain": [
       "defaultdict(list,\n",
       "            {'DEN170073': ['K180647',\n",
       "              'K193658',\n",
       "              'K182177',\n",
       "              'K212261',\n",
       "              'K182875',\n",
       "              'K200873'],\n",
       "             'K180647': ['K192383',\n",
       "              'K200855',\n",
       "              'K190896',\n",
       "              'K190072',\n",
       "              'K193087',\n",
       "              'K193298',\n",
       "              'K193351',\n",
       "              'K200921',\n",
       "              'K211179'],\n",
       "             'K182177': ['K203260', 'K192167', 'K190424', 'K201310'],\n",
       "             'K190072': ['K203508', 'K220499', 'K201020', 'K210237'],\n",
       "             'K203508': ['K221314', 'K221240', 'K213886', 'K213721'],\n",
       "             'K193087': ['K200941'],\n",
       "             'K193658': ['K210209'],\n",
       "             'K200941': ['K221248'],\n",
       "             'QAS': ['DEN170073']})"
      ]
     },
     "execution_count": 8,
     "metadata": {},
     "output_type": "execute_result"
    }
   ],
   "source": [
    "adj_list"
   ]
  },
  {
   "cell_type": "code",
   "execution_count": 9,
   "metadata": {},
   "outputs": [],
   "source": [
    "import networkx as nx\n",
    "from pyvis.network import Network"
   ]
  },
  {
   "cell_type": "code",
   "execution_count": 10,
   "metadata": {},
   "outputs": [],
   "source": [
    "DEFAULT = 25\n",
    "SIZE_DICT = {0: 400, 1: 200, 2: 50}\n",
    "\n",
    "# TODO: add color\n",
    "def get_node_val(adj_list, pcode):\n",
    "    nodes = []\n",
    "    values = []\n",
    "\n",
    "    stk = []\n",
    "    stk.append((pcode, 0))\n",
    "\n",
    "    while stk:\n",
    "        node, level = stk.pop()\n",
    "        if node in nodes: continue\n",
    "\n",
    "        nodes.append(node)\n",
    "        values.append(SIZE_DICT[level]) if level <= 2 else values.append(DEFAULT)\n",
    "\n",
    "        for child in adj_list[node]:\n",
    "            stk.append((child, level+1))\n",
    "\n",
    "    return nodes, values"
   ]
  },
  {
   "cell_type": "markdown",
   "metadata": {},
   "source": [
    "# JSON Output"
   ]
  },
  {
   "cell_type": "code",
   "execution_count": 42,
   "metadata": {},
   "outputs": [],
   "source": [
    "nodes, _ = get_node_val(adj_list, 'QAS')"
   ]
  },
  {
   "cell_type": "code",
   "execution_count": 55,
   "metadata": {},
   "outputs": [],
   "source": [
    "def to_json(pcode, adj_list, nodes):\n",
    "    res = {}\n",
    "    res['tree'] = adj_list\n",
    "    res['info'] = {}\n",
    "\n",
    "    # Pull relevant information from openFDA API for each node\n",
    "    url = f'https://api.fda.gov/device/510k.json?search={pcode}&limit=100'\n",
    "\n",
    "    response = urllib.request.urlopen(url)\n",
    "    db = json.loads(response.read())\n",
    "\n",
    "    for doc in db['results']:\n",
    "        if doc['k_number'] in nodes:\n",
    "            res['info'][doc['k_number']] = {\n",
    "                'DECISION_DATE': doc['decision_date'],\n",
    "                'PRODUCT_CODES': doc['product_code'],\n",
    "                'DEVICE_TRADE_NAME': doc['device_name']\n",
    "            }\n",
    "\n",
    "    return json.dumps(res)"
   ]
  },
  {
   "cell_type": "code",
   "execution_count": 56,
   "metadata": {},
   "outputs": [],
   "source": [
    "res = to_json('QAS', adj_list, nodes)"
   ]
  },
  {
   "cell_type": "code",
   "execution_count": 59,
   "metadata": {},
   "outputs": [
    {
     "data": {
      "text/plain": [
       "'{\"tree\": {\"DEN170073\": [\"K180647\", \"K193658\", \"K182177\", \"K212261\", \"K182875\", \"K200873\"], \"K180647\": [\"K192383\", \"K200855\", \"K190896\", \"K190072\", \"K193087\", \"K193298\", \"K193351\", \"K200921\", \"K211179\"], \"K182177\": [\"K203260\", \"K192167\", \"K190424\", \"K201310\"], \"K190072\": [\"K203508\", \"K220499\", \"K201020\", \"K210237\"], \"K203508\": [\"K221314\", \"K221240\", \"K213886\", \"K213721\"], \"K193087\": [\"K200941\"], \"K193658\": [\"K210209\"], \"K200941\": [\"K221248\"], \"QAS\": [\"DEN170073\"], \"K200873\": [], \"K182875\": [], \"K212261\": [], \"K201310\": [], \"K190424\": [], \"K192167\": [], \"K203260\": [], \"K210209\": [], \"K211179\": [], \"K200921\": [], \"K193351\": [], \"K193298\": [], \"K221248\": [], \"K210237\": [], \"K201020\": [], \"K220499\": [], \"K213721\": [], \"K213886\": [], \"K221240\": [], \"K221314\": [], \"K190896\": [], \"K200855\": [], \"K192383\": []}, \"info\": {\"K192383\": {\"DECISION_DATE\": \"2019-12-20\", \"PRODUCT_CODES\": \"QAS\", \"DEVICE_TRADE_NAME\": \"BriefCase\"}, \"K193658\": {\"DECISION_DATE\": \"2020-03-18\", \"PRODUCT_CODES\": \"QAS\", \"DEVICE_TRADE_NAME\": \"Viz ICH\"}, \"K203260\": {\"DECISION_DATE\": \"2022-01-28\", \"PRODUCT_CODES\": \"QAS\", \"DEVICE_TRADE_NAME\": \"syngo.CT Brain Hemorrhage\"}, \"K200855\": {\"DECISION_DATE\": \"2020-06-24\", \"PRODUCT_CODES\": \"QAS\", \"DEVICE_TRADE_NAME\": \"CINA\"}, \"K190896\": {\"DECISION_DATE\": \"2019-05-31\", \"PRODUCT_CODES\": \"QAS\", \"DEVICE_TRADE_NAME\": \"BriefCase\"}, \"K221314\": {\"DECISION_DATE\": \"2022-06-03\", \"PRODUCT_CODES\": \"QAS\", \"DEVICE_TRADE_NAME\": \"BriefCase\"}, \"K190072\": {\"DECISION_DATE\": \"2019-04-15\", \"PRODUCT_CODES\": \"QAS\", \"DEVICE_TRADE_NAME\": \"BriefCase\"}, \"K221240\": {\"DECISION_DATE\": \"2022-05-17\", \"PRODUCT_CODES\": \"QAS\", \"DEVICE_TRADE_NAME\": \"BriefCase\"}, \"K213886\": {\"DECISION_DATE\": \"2022-04-26\", \"PRODUCT_CODES\": \"QAS\", \"DEVICE_TRADE_NAME\": \"BriefCase\"}, \"K193087\": {\"DECISION_DATE\": \"2020-03-31\", \"PRODUCT_CODES\": \"QAS\", \"DEVICE_TRADE_NAME\": \"Rapid ICH\"}, \"K193298\": {\"DECISION_DATE\": \"2020-06-19\", \"PRODUCT_CODES\": \"QAS\", \"DEVICE_TRADE_NAME\": \"BriefCase\"}, \"K200941\": {\"DECISION_DATE\": \"2020-07-09\", \"PRODUCT_CODES\": \"QAS\", \"DEVICE_TRADE_NAME\": \"Rapid LVO\"}, \"K192167\": {\"DECISION_DATE\": \"2020-04-13\", \"PRODUCT_CODES\": \"QAS\", \"DEVICE_TRADE_NAME\": \"CuraRad-ICH\"}, \"K220499\": {\"DECISION_DATE\": \"2022-05-17\", \"PRODUCT_CODES\": \"QAS\", \"DEVICE_TRADE_NAME\": \"Rapid PE Triage and Notification (PETN)\"}, \"K190424\": {\"DECISION_DATE\": \"2019-06-13\", \"PRODUCT_CODES\": \"QAS\", \"DEVICE_TRADE_NAME\": \"HealthICH\"}, \"K213721\": {\"DECISION_DATE\": \"2022-03-21\", \"PRODUCT_CODES\": \"QAS\", \"DEVICE_TRADE_NAME\": \"BriefCase\"}, \"K212261\": {\"DECISION_DATE\": \"2021-10-14\", \"PRODUCT_CODES\": \"QAS\", \"DEVICE_TRADE_NAME\": \"StrokeSENS LVO\"}, \"K201020\": {\"DECISION_DATE\": \"2020-08-26\", \"PRODUCT_CODES\": \"QAS\", \"DEVICE_TRADE_NAME\": \"BriefCase\"}, \"K201310\": {\"DECISION_DATE\": \"2020-08-07\", \"PRODUCT_CODES\": \"QAS\", \"DEVICE_TRADE_NAME\": \"Accipiolx\"}, \"K182177\": {\"DECISION_DATE\": \"2018-10-26\", \"PRODUCT_CODES\": \"QAS\", \"DEVICE_TRADE_NAME\": \"Accipiolx\"}, \"K193351\": {\"DECISION_DATE\": \"2020-04-21\", \"PRODUCT_CODES\": \"QAS\", \"DEVICE_TRADE_NAME\": \"NinesAI\"}, \"K182875\": {\"DECISION_DATE\": \"2019-07-10\", \"PRODUCT_CODES\": \"QAS\", \"DEVICE_TRADE_NAME\": \"DeepCT\"}, \"K210209\": {\"DECISION_DATE\": \"2021-03-23\", \"PRODUCT_CODES\": \"QAS\", \"DEVICE_TRADE_NAME\": \"Viz ICH\"}, \"K200873\": {\"DECISION_DATE\": \"2020-11-20\", \"PRODUCT_CODES\": \"QAS\", \"DEVICE_TRADE_NAME\": \"HALO\"}, \"DEN170073\": {\"DECISION_DATE\": \"2018-02-13\", \"PRODUCT_CODES\": \"QAS\", \"DEVICE_TRADE_NAME\": \"ContaCT\"}, \"K200921\": {\"DECISION_DATE\": \"2020-06-17\", \"PRODUCT_CODES\": \"QAS\", \"DEVICE_TRADE_NAME\": \"qER\"}, \"K203508\": {\"DECISION_DATE\": \"2020-12-29\", \"PRODUCT_CODES\": \"QAS\", \"DEVICE_TRADE_NAME\": \"BriefCase\"}, \"K221248\": {\"DECISION_DATE\": \"2022-05-31\", \"PRODUCT_CODES\": \"QAS\", \"DEVICE_TRADE_NAME\": \"Rapid LVO\"}, \"K210237\": {\"DECISION_DATE\": \"2021-05-19\", \"PRODUCT_CODES\": \"QAS\", \"DEVICE_TRADE_NAME\": \"CINA CHEST\"}, \"K180647\": {\"DECISION_DATE\": \"2018-08-01\", \"PRODUCT_CODES\": \"QAS\", \"DEVICE_TRADE_NAME\": \"BriefCase\"}, \"K211179\": {\"DECISION_DATE\": \"2021-08-12\", \"PRODUCT_CODES\": \"QAS\", \"DEVICE_TRADE_NAME\": \"InferRead CT Stroke.AI\"}}}'"
      ]
     },
     "execution_count": 59,
     "metadata": {},
     "output_type": "execute_result"
    }
   ],
   "source": [
    "res"
   ]
  },
  {
   "cell_type": "markdown",
   "metadata": {},
   "source": [
    "### General pipeline from product code to JSON\n",
    "1. Generate adjacency list with form_tree, all we need to pass in is the product code\n",
    "2. Get list of nodes from get_node_val, simple DFS through the adj_list to extract relevant k numbers\n",
    "3. Pass product code, adj_list, and node list to to_json"
   ]
  },
  {
   "cell_type": "code",
   "execution_count": 66,
   "metadata": {},
   "outputs": [],
   "source": [
    "def scrape(pcode, verbose = False):\n",
    "    adj_list = form_tree(pcode, verbose = verbose)\n",
    "    nodes, _ = get_node_val(adj_list, pcode)\n",
    "    return to_json(pcode, adj_list, nodes)"
   ]
  },
  {
   "cell_type": "code",
   "execution_count": 67,
   "metadata": {},
   "outputs": [
    {
     "name": "stdout",
     "output_type": "stream",
     "text": [
      "could not open pdf for K791354\n",
      "could not open pdf for K890414\n",
      "could not open pdf for K790840\n",
      "could not open pdf for K936002\n",
      "could not open pdf for K800657\n",
      "could not open pdf for K800708\n"
     ]
    }
   ],
   "source": [
    "ans = scrape('QAS', verbose = False)"
   ]
  },
  {
   "cell_type": "code",
   "execution_count": 158,
   "metadata": {},
   "outputs": [],
   "source": [
    "class GraphVisual:\n",
    "    def __init__(self, adj_list, pcode):\n",
    "        self.g = Network()\n",
    "        self.pcode = pcode\n",
    "\n",
    "        nodes, values = get_node_val(adj_list, pcode)\n",
    "        self.g.add_nodes(nodes, value=values)\n",
    "\n",
    "        for node in adj_list:\n",
    "            for child in adj_list[node]:\n",
    "                self.g.add_edge(node, child)\n",
    "\n",
    "    def add_edge(self, a, b):\n",
    "        self.edges.append([a,b])\n",
    "\n",
    "    def visualize(self):\n",
    "        self.g.show(f'{self.pcode}.html')\n"
   ]
  },
  {
   "cell_type": "code",
   "execution_count": 159,
   "metadata": {},
   "outputs": [],
   "source": [
    "g = GraphVisual(adj_list, 'QAS')\n",
    "\n",
    "g.visualize()"
   ]
  },
  {
   "cell_type": "code",
   "execution_count": null,
   "metadata": {},
   "outputs": [],
   "source": []
  }
 ],
 "metadata": {
  "kernelspec": {
   "display_name": "Python 3.9.12 ('base')",
   "language": "python",
   "name": "python3"
  },
  "language_info": {
   "codemirror_mode": {
    "name": "ipython",
    "version": 3
   },
   "file_extension": ".py",
   "mimetype": "text/x-python",
   "name": "python",
   "nbconvert_exporter": "python",
   "pygments_lexer": "ipython3",
   "version": "3.9.12"
  },
  "orig_nbformat": 4,
  "vscode": {
   "interpreter": {
    "hash": "3c96f106d5038f1a08e9b5f35285d94ed7ed79220ac5e2b227cacc776d5e1b04"
   }
  }
 },
 "nbformat": 4,
 "nbformat_minor": 2
}
