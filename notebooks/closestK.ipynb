{
 "cells": [
  {
   "cell_type": "markdown",
   "metadata": {},
   "source": [
    "# Finding the predicate..."
   ]
  },
  {
   "cell_type": "code",
   "execution_count": 33,
   "metadata": {},
   "outputs": [],
   "source": [
    "import pandas as pd\n",
    "from typing import List\n",
    "import tempfile\n",
    "import urllib.request\n",
    "from os import path\n",
    "import PyPDF2 as ppdf\n",
    "import re\n",
    "import json\n",
    "from collections import defaultdict\n",
    "from tqdm import tqdm\n",
    "import networkx as nx\n",
    "from pyvis.network import Network"
   ]
  },
  {
   "cell_type": "code",
   "execution_count": 34,
   "metadata": {},
   "outputs": [],
   "source": [
    "def find_predicate(pcode: str) -> str:\n",
    "\n",
    "    # Extract year from product code\n",
    "    if pcode[0] == 'K': yr = pcode[1:3]\n",
    "    else: return None\n",
    "\n",
    "    url = f'https://www.accessdata.fda.gov/cdrh_docs/pdf{yr}/{pcode}.pdf'\n",
    "    # print(url)\n",
    "\n",
    "    # Pull PDF data\n",
    "    response = urllib.request.urlopen(url)\n",
    "    pg_data = response.read()\n",
    "\n",
    "    # Write to tempfile object\n",
    "    temp_file = path.join(tempfile.gettempdir(), 'temp.pdf')\n",
    "    pdf_file = open(temp_file, 'wb')\n",
    "    pdf_file.write(pg_data)\n",
    "\n",
    "    found = []\n",
    "\n",
    "    # In case the document is too old\n",
    "    try: \n",
    "        doc = ppdf.PdfFileReader(open(temp_file, 'rb'))\n",
    "    except Exception as e: \n",
    "        print(f'could not open pdf for {pcode}')\n",
    "        return None\n",
    "\n",
    "    for pg in doc.pages:\n",
    "        try:\n",
    "            pg_content = (pg.extract_text() + '\\n').upper()\n",
    "            regex = re.search('PREDICATE', pg_content)\n",
    "\n",
    "            # Find all product codes after each occurrence of 'predicate' sorted in order of appearance\n",
    "            if regex is not None:\n",
    "                chunks = re.findall('(P|DEN|K)([0-9]{6})', pg_content[regex.span()[1]:])\n",
    "                pcodes = [p1+p2 for p1,p2 in chunks]\n",
    "                for cand in pcodes:\n",
    "                    if cand != pcode: \n",
    "                        found.append(cand)\n",
    "                        break\n",
    "\n",
    "        except Exception as e:\n",
    "            # print(f'issue finding predicate for {pcode}: {e}')\n",
    "            pass\n",
    "\n",
    "    # Return most occuring element in found, just an extra layer of assurance\n",
    "    return max(set(found), key = found.count) if len(found) else None\n"
   ]
  },
  {
   "cell_type": "code",
   "execution_count": 3,
   "metadata": {},
   "outputs": [],
   "source": [
    "def get_nums(pcode: str, limit: int) -> List[str]:\n",
    "    url = f'https://api.fda.gov/device/510k.json?search={pcode}&limit={limit}'\n",
    "\n",
    "    response = urllib.request.urlopen(url)\n",
    "    db = json.loads(response.read())\n",
    "\n",
    "    return [d[\"k_number\"] for d in db[\"results\"]]"
   ]
  },
  {
   "cell_type": "code",
   "execution_count": 4,
   "metadata": {},
   "outputs": [],
   "source": [
    "def to_root(src: str): \n",
    "    res = [src]\n",
    "\n",
    "    while res[-1][0] == 'K':\n",
    "        pred = find_predicate(res[-1])\n",
    "        if pred is None or pred in res: break\n",
    "        res.append(pred)\n",
    "\n",
    "    return res"
   ]
  },
  {
   "cell_type": "code",
   "execution_count": 5,
   "metadata": {},
   "outputs": [],
   "source": [
    "def form_tree(pcode, verbose = False):\n",
    "    nums = get_nums(pcode, 500)\n",
    "\n",
    "    adj_list = defaultdict(list)\n",
    "    visited = set()\n",
    "    in_degree = defaultdict(int)\n",
    "\n",
    "    for i, num in enumerate(nums):\n",
    "        path = to_root(num)\n",
    "\n",
    "        if verbose:\n",
    "            print(f'Starting new path at {num}, iter {i+1}/{len(nums)}')\n",
    "            print(path, '\\n')\n",
    "\n",
    "        for i in range(len(path)-1, 0, -1):\n",
    "            parent, child = path[i], path[i-1]\n",
    "            visited.update([parent, child])\n",
    "            in_degree[child] += 1\n",
    "            if child not in adj_list[parent]:\n",
    "                adj_list[parent].append(child)\n",
    "\n",
    "    for node in visited:\n",
    "        if in_degree[node] == 0: \n",
    "            adj_list[pcode].append(node)\n",
    "\n",
    "    return adj_list\n"
   ]
  },
  {
   "cell_type": "code",
   "execution_count": 76,
   "metadata": {},
   "outputs": [],
   "source": [
    "def convert_root_path(root_path):\n",
    "    print(root_path)\n",
    "\n",
    "    url = f'https://api.fda.gov/device/510k.json?search={root_path[0]}'\n",
    "    response = urllib.request.urlopen(url)\n",
    "    db = json.loads(response.read())\n",
    "    pcode = db['results'][0]['product_code']\n",
    "\n",
    "    adj_list = defaultdict(list)\n",
    "    for i in range(len(root_path)-1):\n",
    "        adj_list[root_path[i+1]].append(root_path[i])\n",
    "    adj_list[pcode].append(root_path[-1])\n",
    "\n",
    "    return adj_list, pcode"
   ]
  },
  {
   "cell_type": "code",
   "execution_count": 70,
   "metadata": {},
   "outputs": [],
   "source": [
    "def get_node_val(adj_list, pcode):\n",
    "    nodes = []\n",
    "    values = {}\n",
    "\n",
    "    stk = []\n",
    "    stk.append((pcode, 0))\n",
    "\n",
    "    while stk:\n",
    "        node, level = stk.pop()\n",
    "        if node in nodes:\n",
    "            continue\n",
    "\n",
    "        nodes.append(node)\n",
    "        values[node] = level\n",
    "\n",
    "        for child in adj_list[node]:\n",
    "            stk.append((child, level+1))\n",
    "\n",
    "    return nodes, values"
   ]
  },
  {
   "cell_type": "markdown",
   "metadata": {},
   "source": [
    "# JSON Output"
   ]
  },
  {
   "cell_type": "code",
   "execution_count": 60,
   "metadata": {},
   "outputs": [],
   "source": [
    "def to_json(pcode, adj_list, nodes, values):\n",
    "    res = {}\n",
    "    res['tree'] = adj_list\n",
    "    res['info'] = {}\n",
    "\n",
    "    # Pull relevant information from openFDA API for each node\n",
    "    url = f'https://api.fda.gov/device/510k.json?search={pcode}&limit=500'\n",
    "\n",
    "    response = urllib.request.urlopen(url)\n",
    "    db = json.loads(response.read())\n",
    "\n",
    "    for doc in db['results']:\n",
    "        if doc['k_number'] in nodes:\n",
    "            res['info'][doc['k_number']] = {\n",
    "                'DECISION_DATE': doc['decision_date'],\n",
    "                'PRODUCT_CODES': doc['product_code'],\n",
    "                'DEVICE_TRADE_NAME': doc['device_name'],\n",
    "                'GENERATION': values[doc['k_number']]\n",
    "            }\n",
    "\n",
    "    for n in nodes:\n",
    "        if n not in res['info']:\n",
    "            res['info'][n] = {};\n",
    "            res['info'][n]['GENERATION'] = values[n]\n",
    "\n",
    "\n",
    "    return json.dumps(res)"
   ]
  },
  {
   "cell_type": "markdown",
   "metadata": {},
   "source": [
    "### From product code to JSON\n",
    "1. Generate adjacency list with form_tree, all we need to pass in is the product code\n",
    "2. Get list of nodes from get_node_val, simple DFS through the adj_list to extract relevant k numbers\n",
    "3. Pass product code, adj_list, and node list to to_json"
   ]
  },
  {
   "cell_type": "code",
   "execution_count": 26,
   "metadata": {},
   "outputs": [],
   "source": [
    "def scrape_tree(pcode, verbose = False):\n",
    "    adj_list = form_tree(pcode, verbose = verbose)\n",
    "    nodes, values = get_node_val(adj_list, pcode)\n",
    "    return to_json(pcode, adj_list, nodes, values)"
   ]
  },
  {
   "cell_type": "markdown",
   "metadata": {},
   "source": [
    "### From knumber to JSON\n",
    "1. Generate root path with to_root, only passing in the source knumber\n",
    "2. Convert rooth path to adj_list and product code with convert_root_path\n",
    "3. Rest is the same as with scrape_tree..."
   ]
  },
  {
   "cell_type": "code",
   "execution_count": 77,
   "metadata": {},
   "outputs": [],
   "source": [
    "def scrape_branch(knumber, verbose = False):\n",
    "    root_path = to_root(knumber)\n",
    "    adj_list, pcode = convert_root_path(root_path)\n",
    "    nodes, values = get_node_val(adj_list, pcode)\n",
    "    return to_json(pcode, adj_list, nodes, values)"
   ]
  },
  {
   "cell_type": "code",
   "execution_count": 78,
   "metadata": {},
   "outputs": [
    {
     "name": "stdout",
     "output_type": "stream",
     "text": [
      "['K221248', 'K200941', 'K193087', 'K180647', 'DEN170073']\n"
     ]
    }
   ],
   "source": [
    "res = scrape_tree('LZA')"
   ]
  },
  {
   "cell_type": "code",
   "execution_count": 75,
   "metadata": {},
   "outputs": [
    {
     "data": {
      "text/plain": [
       "'{\"tree\": {\"K200941\": [\"K221248\"], \"K193087\": [\"K200941\"], \"K180647\": [\"K193087\"], \"DEN170073\": [\"K180647\"], \"QAS\": [\"DEN170073\"], \"K221248\": []}, \"info\": {\"K193087\": {\"DECISION_DATE\": \"2020-03-31\", \"PRODUCT_CODES\": \"QAS\", \"DEVICE_TRADE_NAME\": \"Rapid ICH\", \"GENERATION\": 3}, \"K200941\": {\"DECISION_DATE\": \"2020-07-09\", \"PRODUCT_CODES\": \"QAS\", \"DEVICE_TRADE_NAME\": \"Rapid LVO\", \"GENERATION\": 4}, \"DEN170073\": {\"DECISION_DATE\": \"2018-02-13\", \"PRODUCT_CODES\": \"QAS\", \"DEVICE_TRADE_NAME\": \"ContaCT\", \"GENERATION\": 1}, \"K221248\": {\"DECISION_DATE\": \"2022-05-31\", \"PRODUCT_CODES\": \"QAS\", \"DEVICE_TRADE_NAME\": \"Rapid LVO\", \"GENERATION\": 5}, \"K180647\": {\"DECISION_DATE\": \"2018-08-01\", \"PRODUCT_CODES\": \"QAS\", \"DEVICE_TRADE_NAME\": \"BriefCase\", \"GENERATION\": 2}, \"QAS\": {\"GENERATION\": 0}}}'"
      ]
     },
     "execution_count": 75,
     "metadata": {},
     "output_type": "execute_result"
    }
   ],
   "source": [
    "res"
   ]
  },
  {
   "cell_type": "code",
   "execution_count": 158,
   "metadata": {},
   "outputs": [],
   "source": [
    "class GraphVisual:\n",
    "    def __init__(self, adj_list, pcode):\n",
    "        self.g = Network()\n",
    "        self.pcode = pcode\n",
    "\n",
    "        nodes, values = get_node_val(adj_list, pcode)\n",
    "        self.g.add_nodes(nodes, value=values)\n",
    "\n",
    "        for node in adj_list:\n",
    "            for child in adj_list[node]:\n",
    "                self.g.add_edge(node, child)\n",
    "\n",
    "    def add_edge(self, a, b):\n",
    "        self.edges.append([a,b])\n",
    "\n",
    "    def visualize(self):\n",
    "        self.g.show(f'{self.pcode}.html')\n"
   ]
  },
  {
   "cell_type": "code",
   "execution_count": 159,
   "metadata": {},
   "outputs": [],
   "source": [
    "g = GraphVisual(adj_list, 'QAS')\n",
    "\n",
    "g.visualize()"
   ]
  },
  {
   "cell_type": "code",
   "execution_count": null,
   "metadata": {},
   "outputs": [],
   "source": []
  }
 ],
 "metadata": {
  "kernelspec": {
   "display_name": "Python 3.9.12 ('base')",
   "language": "python",
   "name": "python3"
  },
  "language_info": {
   "codemirror_mode": {
    "name": "ipython",
    "version": 3
   },
   "file_extension": ".py",
   "mimetype": "text/x-python",
   "name": "python",
   "nbconvert_exporter": "python",
   "pygments_lexer": "ipython3",
   "version": "3.9.12"
  },
  "orig_nbformat": 4,
  "vscode": {
   "interpreter": {
    "hash": "3c96f106d5038f1a08e9b5f35285d94ed7ed79220ac5e2b227cacc776d5e1b04"
   }
  }
 },
 "nbformat": 4,
 "nbformat_minor": 2
}
