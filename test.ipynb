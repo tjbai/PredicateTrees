{
 "cells": [
  {
   "cell_type": "markdown",
   "metadata": {},
   "source": [
    "# 510(k) database"
   ]
  },
  {
   "cell_type": "code",
   "execution_count": 5,
   "metadata": {},
   "outputs": [],
   "source": [
    "from bs4 import BeautifulSoup\n",
    "import pandas as pd\n",
    "import requests\n",
    "from typing import List\n",
    "import tempfile\n",
    "import urllib.request\n",
    "from os import path\n",
    "import PyPDF2 as ppdf\n",
    "import re"
   ]
  },
  {
   "cell_type": "code",
   "execution_count": 6,
   "metadata": {},
   "outputs": [],
   "source": [
    "def get_sub_numbers(pcodes: List[str]) -> List[str]:\n",
    "    \"\"\"\n",
    "    Returns all 510(k) premarket submission numbers for given product codes\n",
    "\n",
    "    Params:\n",
    "        pcodes :: list of interested product codes\n",
    "\n",
    "    Returns:\n",
    "        list[str] :: list of scraped submission document numbers\n",
    "    \"\"\"\n",
    "\n",
    "    res = []\n",
    "    for pcode in pcodes:\n",
    "        # TODO: Might need to add more options to this URL\n",
    "        src = requests.get(\n",
    "            f'https://www.accessdata.fda.gov/scripts/cdrh/cfdocs/cfpmn/pmn.cfm?start_search=1&Center=CDRH&Panel=&ProductCode={pcode}&KNumber=&Applicant=&DeviceName=&Type=Traditional&ThirdPartyReviewed=&ClinicalTrials=&Decision=&DecisionDateFrom=&DecisionDateTo=07%2F13%2F2022&IVDProducts=&Redact510K=&CombinationProducts=&ZNumber=&PAGENUM=500').text\n",
    "\n",
    "        soup = BeautifulSoup(src, 'lxml')\n",
    "        table = soup.find_all('table')[3]  # table of devices\n",
    "        # skip all the boilerplate entries\n",
    "        entries = table.tbody.find_all('tr')[4:]\n",
    "\n",
    "        for e in entries:\n",
    "            res.append(e.find_all('td')[2].text)\n",
    "\n",
    "    return res"
   ]
  },
  {
   "cell_type": "code",
   "execution_count": 23,
   "metadata": {},
   "outputs": [],
   "source": [
    "def get_labels(labels: List[str], sub_numbers: List[str]) -> pd.DataFrame:\n",
    "    \"\"\"\n",
    "    Returns a DataFrame of document-specific information\n",
    "\n",
    "    Params:\n",
    "        labels :: categories from the 510(k) database (e.g. Product Codes, Applicant)\n",
    "        sub_numbers :: a list of submission document numbers \n",
    "\n",
    "    Returns:\n",
    "        DataFrame :: with labels as as columns and documents as rows\n",
    "    \"\"\"\n",
    "    db = []\n",
    "    for sub_num in sub_numbers:\n",
    "        res = {'Submission Number': sub_num}\n",
    "\n",
    "        src = requests.get(\n",
    "            f'https://www.accessdata.fda.gov/scripts/cdrh/cfdocs/cfpmn/pmn.cfm?ID={sub_num}').text\n",
    "        soup = BeautifulSoup(src, 'lxml')\n",
    "        table = soup.find_all('table')[8]  # single out the central table\n",
    "        specs = table.find_all('tr')\n",
    "\n",
    "        # Parse for relevant labels\n",
    "        for s in specs:\n",
    "            if s.th and s.th.text in labels:\n",
    "                res[s.th.text] = s.td.text\n",
    "\n",
    "        # Default for values not found\n",
    "        for lab in labels:\n",
    "            if lab not in res.keys():\n",
    "                res[lab] = None\n",
    "\n",
    "        # print(res)\n",
    "\n",
    "        db.append(res)\n",
    "\n",
    "    return pd.DataFrame(db)"
   ]
  },
  {
   "cell_type": "code",
   "execution_count": 59,
   "metadata": {},
   "outputs": [],
   "source": [
    "# Form dataframe of submission documents, can add more labels here\n",
    "snums = get_sub_numbers(['QAS'])\n",
    "df = get_labels(['Device Name', 'Applicant',\n",
    "                'Date Received', 'Decision Date'], snums)"
   ]
  },
  {
   "cell_type": "code",
   "execution_count": 60,
   "metadata": {},
   "outputs": [],
   "source": [
    "def clean_cols(df: pd.DataFrame):\n",
    "    \"\"\"\n",
    "    For now, just cleans the applicant column. Should add kwargs ??\n",
    "    \"\"\"\n",
    "    df['Applicant'] = df['Applicant'].str.split('\\n').str[2]\n",
    "\n",
    "clean_cols(df)"
   ]
  },
  {
   "cell_type": "code",
   "execution_count": 61,
   "metadata": {},
   "outputs": [
    {
     "data": {
      "text/html": [
       "<div>\n",
       "<style scoped>\n",
       "    .dataframe tbody tr th:only-of-type {\n",
       "        vertical-align: middle;\n",
       "    }\n",
       "\n",
       "    .dataframe tbody tr th {\n",
       "        vertical-align: top;\n",
       "    }\n",
       "\n",
       "    .dataframe thead th {\n",
       "        text-align: right;\n",
       "    }\n",
       "</style>\n",
       "<table border=\"1\" class=\"dataframe\">\n",
       "  <thead>\n",
       "    <tr style=\"text-align: right;\">\n",
       "      <th></th>\n",
       "      <th>Submission Number</th>\n",
       "      <th>Device Name</th>\n",
       "      <th>Applicant</th>\n",
       "      <th>Date Received</th>\n",
       "      <th>Decision Date</th>\n",
       "    </tr>\n",
       "  </thead>\n",
       "  <tbody>\n",
       "    <tr>\n",
       "      <th>0</th>\n",
       "      <td>K220499</td>\n",
       "      <td>Rapid PE Triage and Notification (PETN)</td>\n",
       "      <td>iSchemaView Inc.</td>\n",
       "      <td>02/22/2022</td>\n",
       "      <td>05/17/2022</td>\n",
       "    </tr>\n",
       "    <tr>\n",
       "      <th>1</th>\n",
       "      <td>K213886</td>\n",
       "      <td>BriefCase</td>\n",
       "      <td>Aidoc Medical, Ltd.</td>\n",
       "      <td>12/13/2021</td>\n",
       "      <td>04/26/2022</td>\n",
       "    </tr>\n",
       "    <tr>\n",
       "      <th>2</th>\n",
       "      <td>K213721</td>\n",
       "      <td>BriefCase</td>\n",
       "      <td>Aidoc Medical, Ltd.</td>\n",
       "      <td>11/24/2021</td>\n",
       "      <td>03/21/2022</td>\n",
       "    </tr>\n",
       "    <tr>\n",
       "      <th>3</th>\n",
       "      <td>K203260</td>\n",
       "      <td>syngo.CT Brain Hemorrhage</td>\n",
       "      <td>Siemens Medical Solutions USA, Inc.</td>\n",
       "      <td>11/05/2020</td>\n",
       "      <td>01/28/2022</td>\n",
       "    </tr>\n",
       "    <tr>\n",
       "      <th>4</th>\n",
       "      <td>K212261</td>\n",
       "      <td>StrokeSENS LVO</td>\n",
       "      <td>Circle Neurovascular Imaging, Inc</td>\n",
       "      <td>07/20/2021</td>\n",
       "      <td>10/14/2021</td>\n",
       "    </tr>\n",
       "    <tr>\n",
       "      <th>5</th>\n",
       "      <td>K211179</td>\n",
       "      <td>InferRead CT Stroke.AI</td>\n",
       "      <td>Infervision Medical Technology Co., Ltd.</td>\n",
       "      <td>04/20/2021</td>\n",
       "      <td>08/12/2021</td>\n",
       "    </tr>\n",
       "    <tr>\n",
       "      <th>6</th>\n",
       "      <td>K210237</td>\n",
       "      <td>CINA CHEST</td>\n",
       "      <td>Avicenna.AI</td>\n",
       "      <td>01/28/2021</td>\n",
       "      <td>05/19/2021</td>\n",
       "    </tr>\n",
       "    <tr>\n",
       "      <th>7</th>\n",
       "      <td>K210209</td>\n",
       "      <td>Viz ICH</td>\n",
       "      <td>Viz.ai, Inc.</td>\n",
       "      <td>01/26/2021</td>\n",
       "      <td>03/23/2021</td>\n",
       "    </tr>\n",
       "    <tr>\n",
       "      <th>8</th>\n",
       "      <td>K200873</td>\n",
       "      <td>HALO</td>\n",
       "      <td>NICo-Lab B.V.</td>\n",
       "      <td>04/01/2020</td>\n",
       "      <td>11/20/2020</td>\n",
       "    </tr>\n",
       "    <tr>\n",
       "      <th>9</th>\n",
       "      <td>K201020</td>\n",
       "      <td>BriefCase</td>\n",
       "      <td>Aidoc Medical, Ltd.</td>\n",
       "      <td>04/17/2020</td>\n",
       "      <td>08/26/2020</td>\n",
       "    </tr>\n",
       "    <tr>\n",
       "      <th>10</th>\n",
       "      <td>K201310</td>\n",
       "      <td>Accipiolx</td>\n",
       "      <td>MaxQ Al Ltd.</td>\n",
       "      <td>05/15/2020</td>\n",
       "      <td>08/07/2020</td>\n",
       "    </tr>\n",
       "    <tr>\n",
       "      <th>11</th>\n",
       "      <td>K200941</td>\n",
       "      <td>Rapid LVO</td>\n",
       "      <td>iSchemaView Inc.</td>\n",
       "      <td>04/08/2020</td>\n",
       "      <td>07/09/2020</td>\n",
       "    </tr>\n",
       "    <tr>\n",
       "      <th>12</th>\n",
       "      <td>K200855</td>\n",
       "      <td>CINA</td>\n",
       "      <td>AVICENNA.AI</td>\n",
       "      <td>03/31/2020</td>\n",
       "      <td>06/24/2020</td>\n",
       "    </tr>\n",
       "    <tr>\n",
       "      <th>13</th>\n",
       "      <td>K193298</td>\n",
       "      <td>BriefCase</td>\n",
       "      <td>Aidoc Medical, Ltd.</td>\n",
       "      <td>11/27/2019</td>\n",
       "      <td>06/19/2020</td>\n",
       "    </tr>\n",
       "    <tr>\n",
       "      <th>14</th>\n",
       "      <td>K200921</td>\n",
       "      <td>qER</td>\n",
       "      <td>Qure.ai Technologies</td>\n",
       "      <td>04/06/2020</td>\n",
       "      <td>06/17/2020</td>\n",
       "    </tr>\n",
       "    <tr>\n",
       "      <th>15</th>\n",
       "      <td>K193351</td>\n",
       "      <td>NinesAI</td>\n",
       "      <td>Nines, Inc.</td>\n",
       "      <td>12/03/2019</td>\n",
       "      <td>04/21/2020</td>\n",
       "    </tr>\n",
       "    <tr>\n",
       "      <th>16</th>\n",
       "      <td>K192167</td>\n",
       "      <td>CuraRad-ICH</td>\n",
       "      <td>CuraCloud Corp.</td>\n",
       "      <td>08/09/2019</td>\n",
       "      <td>04/13/2020</td>\n",
       "    </tr>\n",
       "    <tr>\n",
       "      <th>17</th>\n",
       "      <td>K193087</td>\n",
       "      <td>Rapid ICH</td>\n",
       "      <td>iSchemaView Incorporated</td>\n",
       "      <td>11/06/2019</td>\n",
       "      <td>03/31/2020</td>\n",
       "    </tr>\n",
       "    <tr>\n",
       "      <th>18</th>\n",
       "      <td>K193658</td>\n",
       "      <td>Viz ICH</td>\n",
       "      <td>Viz.ai, Inc.</td>\n",
       "      <td>12/30/2019</td>\n",
       "      <td>03/18/2020</td>\n",
       "    </tr>\n",
       "    <tr>\n",
       "      <th>19</th>\n",
       "      <td>K192383</td>\n",
       "      <td>BriefCase</td>\n",
       "      <td>Aidoc Medical, Ltd.</td>\n",
       "      <td>08/30/2019</td>\n",
       "      <td>12/20/2019</td>\n",
       "    </tr>\n",
       "    <tr>\n",
       "      <th>20</th>\n",
       "      <td>K182875</td>\n",
       "      <td>DeepCT</td>\n",
       "      <td>Deep01 Limited</td>\n",
       "      <td>10/12/2018</td>\n",
       "      <td>07/10/2019</td>\n",
       "    </tr>\n",
       "    <tr>\n",
       "      <th>21</th>\n",
       "      <td>K190424</td>\n",
       "      <td>HealthICH</td>\n",
       "      <td>Zebra Medical Vision Ltd.</td>\n",
       "      <td>02/22/2019</td>\n",
       "      <td>06/13/2019</td>\n",
       "    </tr>\n",
       "    <tr>\n",
       "      <th>22</th>\n",
       "      <td>K190896</td>\n",
       "      <td>BriefCase</td>\n",
       "      <td>Aidoc Medical, Ltd.</td>\n",
       "      <td>04/05/2019</td>\n",
       "      <td>05/31/2019</td>\n",
       "    </tr>\n",
       "    <tr>\n",
       "      <th>23</th>\n",
       "      <td>K190072</td>\n",
       "      <td>BriefCase</td>\n",
       "      <td>Aidoc Medical, Ltd.</td>\n",
       "      <td>01/15/2019</td>\n",
       "      <td>04/15/2019</td>\n",
       "    </tr>\n",
       "    <tr>\n",
       "      <th>24</th>\n",
       "      <td>K182177</td>\n",
       "      <td>Accipiolx</td>\n",
       "      <td>MaxQ-Al Ltd.</td>\n",
       "      <td>08/10/2018</td>\n",
       "      <td>10/26/2018</td>\n",
       "    </tr>\n",
       "    <tr>\n",
       "      <th>25</th>\n",
       "      <td>K180647</td>\n",
       "      <td>BriefCase</td>\n",
       "      <td>Aidoc Medical, Ltd.</td>\n",
       "      <td>03/12/2018</td>\n",
       "      <td>08/01/2018</td>\n",
       "    </tr>\n",
       "  </tbody>\n",
       "</table>\n",
       "</div>"
      ],
      "text/plain": [
       "   Submission Number                              Device Name  \\\n",
       "0            K220499  Rapid PE Triage and Notification (PETN)   \n",
       "1            K213886                                BriefCase   \n",
       "2            K213721                                BriefCase   \n",
       "3            K203260                syngo.CT Brain Hemorrhage   \n",
       "4            K212261                           StrokeSENS LVO   \n",
       "5            K211179                   InferRead CT Stroke.AI   \n",
       "6            K210237                               CINA CHEST   \n",
       "7            K210209                                  Viz ICH   \n",
       "8            K200873                                     HALO   \n",
       "9            K201020                                BriefCase   \n",
       "10           K201310                                Accipiolx   \n",
       "11           K200941                                Rapid LVO   \n",
       "12           K200855                                     CINA   \n",
       "13           K193298                                BriefCase   \n",
       "14           K200921                                      qER   \n",
       "15           K193351                                  NinesAI   \n",
       "16           K192167                              CuraRad-ICH   \n",
       "17           K193087                                Rapid ICH   \n",
       "18           K193658                                  Viz ICH   \n",
       "19           K192383                                BriefCase   \n",
       "20           K182875                                   DeepCT   \n",
       "21           K190424                                HealthICH   \n",
       "22           K190896                                BriefCase   \n",
       "23           K190072                                BriefCase   \n",
       "24           K182177                                Accipiolx   \n",
       "25           K180647                                BriefCase   \n",
       "\n",
       "                                   Applicant Date Received Decision Date  \n",
       "0                           iSchemaView Inc.    02/22/2022    05/17/2022  \n",
       "1                        Aidoc Medical, Ltd.    12/13/2021    04/26/2022  \n",
       "2                        Aidoc Medical, Ltd.    11/24/2021    03/21/2022  \n",
       "3        Siemens Medical Solutions USA, Inc.    11/05/2020    01/28/2022  \n",
       "4          Circle Neurovascular Imaging, Inc    07/20/2021    10/14/2021  \n",
       "5   Infervision Medical Technology Co., Ltd.    04/20/2021    08/12/2021  \n",
       "6                                Avicenna.AI    01/28/2021    05/19/2021  \n",
       "7                               Viz.ai, Inc.    01/26/2021    03/23/2021  \n",
       "8                              NICo-Lab B.V.    04/01/2020    11/20/2020  \n",
       "9                        Aidoc Medical, Ltd.    04/17/2020    08/26/2020  \n",
       "10                              MaxQ Al Ltd.    05/15/2020    08/07/2020  \n",
       "11                          iSchemaView Inc.    04/08/2020    07/09/2020  \n",
       "12                               AVICENNA.AI    03/31/2020    06/24/2020  \n",
       "13                       Aidoc Medical, Ltd.    11/27/2019    06/19/2020  \n",
       "14                      Qure.ai Technologies    04/06/2020    06/17/2020  \n",
       "15                               Nines, Inc.    12/03/2019    04/21/2020  \n",
       "16                           CuraCloud Corp.    08/09/2019    04/13/2020  \n",
       "17                  iSchemaView Incorporated    11/06/2019    03/31/2020  \n",
       "18                              Viz.ai, Inc.    12/30/2019    03/18/2020  \n",
       "19                       Aidoc Medical, Ltd.    08/30/2019    12/20/2019  \n",
       "20                            Deep01 Limited    10/12/2018    07/10/2019  \n",
       "21                 Zebra Medical Vision Ltd.    02/22/2019    06/13/2019  \n",
       "22                       Aidoc Medical, Ltd.    04/05/2019    05/31/2019  \n",
       "23                       Aidoc Medical, Ltd.    01/15/2019    04/15/2019  \n",
       "24                              MaxQ-Al Ltd.    08/10/2018    10/26/2018  \n",
       "25                       Aidoc Medical, Ltd.    03/12/2018    08/01/2018  "
      ]
     },
     "execution_count": 61,
     "metadata": {},
     "output_type": "execute_result"
    }
   ],
   "source": [
    "df"
   ]
  },
  {
   "cell_type": "code",
   "execution_count": 62,
   "metadata": {},
   "outputs": [],
   "source": [
    "def form_pdf_url(df: pd.DataFrame):\n",
    "    \"\"\"\n",
    "    Forms pdf url for each submission document based off date received\n",
    "    \"\"\"\n",
    "\n",
    "    df['PDF URL'] = 'https://www.accessdata.fda.gov/cdrh_docs/pdf' + df['Date Received'].str[-2:] + '/' + df['Submission Number'] + '.pdf'"
   ]
  },
  {
   "cell_type": "code",
   "execution_count": 63,
   "metadata": {},
   "outputs": [
    {
     "data": {
      "text/plain": [
       "0     https://www.accessdata.fda.gov/cdrh_docs/pdf22/K220499.pdf\n",
       "1     https://www.accessdata.fda.gov/cdrh_docs/pdf21/K213886.pdf\n",
       "2     https://www.accessdata.fda.gov/cdrh_docs/pdf21/K213721.pdf\n",
       "3     https://www.accessdata.fda.gov/cdrh_docs/pdf20/K203260.pdf\n",
       "4     https://www.accessdata.fda.gov/cdrh_docs/pdf21/K212261.pdf\n",
       "5     https://www.accessdata.fda.gov/cdrh_docs/pdf21/K211179.pdf\n",
       "6     https://www.accessdata.fda.gov/cdrh_docs/pdf21/K210237.pdf\n",
       "7     https://www.accessdata.fda.gov/cdrh_docs/pdf21/K210209.pdf\n",
       "8     https://www.accessdata.fda.gov/cdrh_docs/pdf20/K200873.pdf\n",
       "9     https://www.accessdata.fda.gov/cdrh_docs/pdf20/K201020.pdf\n",
       "10    https://www.accessdata.fda.gov/cdrh_docs/pdf20/K201310.pdf\n",
       "11    https://www.accessdata.fda.gov/cdrh_docs/pdf20/K200941.pdf\n",
       "12    https://www.accessdata.fda.gov/cdrh_docs/pdf20/K200855.pdf\n",
       "13    https://www.accessdata.fda.gov/cdrh_docs/pdf19/K193298.pdf\n",
       "14    https://www.accessdata.fda.gov/cdrh_docs/pdf20/K200921.pdf\n",
       "15    https://www.accessdata.fda.gov/cdrh_docs/pdf19/K193351.pdf\n",
       "16    https://www.accessdata.fda.gov/cdrh_docs/pdf19/K192167.pdf\n",
       "17    https://www.accessdata.fda.gov/cdrh_docs/pdf19/K193087.pdf\n",
       "18    https://www.accessdata.fda.gov/cdrh_docs/pdf19/K193658.pdf\n",
       "19    https://www.accessdata.fda.gov/cdrh_docs/pdf19/K192383.pdf\n",
       "20    https://www.accessdata.fda.gov/cdrh_docs/pdf18/K182875.pdf\n",
       "21    https://www.accessdata.fda.gov/cdrh_docs/pdf19/K190424.pdf\n",
       "22    https://www.accessdata.fda.gov/cdrh_docs/pdf19/K190896.pdf\n",
       "23    https://www.accessdata.fda.gov/cdrh_docs/pdf19/K190072.pdf\n",
       "24    https://www.accessdata.fda.gov/cdrh_docs/pdf18/K182177.pdf\n",
       "25    https://www.accessdata.fda.gov/cdrh_docs/pdf18/K180647.pdf\n",
       "Name: PDF URL, dtype: object"
      ]
     },
     "execution_count": 63,
     "metadata": {},
     "output_type": "execute_result"
    }
   ],
   "source": [
    "form_pdf_url(df)\n",
    "\n",
    "pd.set_option('max_colwidth', None)\n",
    "df['PDF URL']"
   ]
  },
  {
   "cell_type": "code",
   "execution_count": 72,
   "metadata": {},
   "outputs": [],
   "source": [
    "def scan_pdf(df: pd.DataFrame, keyword: str, sz = 50):\n",
    "    \"\"\"\n",
    "    Naive keyword parsing. Looks for keywords and grabs the next 50 characters if there's a match.\n",
    "\n",
    "    Params:\n",
    "        df :: DataFrame with a PDF URL column\n",
    "\n",
    "    Returns:\n",
    "    TBD\n",
    "    \"\"\"\n",
    "    print(\"THiS HAPPENS\")\n",
    "\n",
    "    kw_frags = []\n",
    "    for url in df['PDF URL']:\n",
    "        print(url)\n",
    "        res = [] \n",
    "\n",
    "        # Pull PDF data from url\n",
    "        response = urllib.request.urlopen(url)\n",
    "        pg_data = response.read()\n",
    "\n",
    "        # Write data to tempfile object\n",
    "        temp_file = path.join(tempfile.gettempdir(), 'temp.pdf')\n",
    "        pdf_file = open(temp_file, 'wb')\n",
    "        pdf_file.write(pg_data)\n",
    "\n",
    "        # print(pdf_file) \n",
    "\n",
    "        # Read tempfile object with PyPDF2\n",
    "        pdfDoc = ppdf.PdfFileReader(open(temp_file, 'rb'))\n",
    "        for pg in pdfDoc.pages:\n",
    "            pg_content = (pg.extract_text() + '\\n').lower()\n",
    "\n",
    "            # regex match for keyword\n",
    "            reSearch = re.search(keyword, pg_content)\n",
    "            if reSearch is not None:\n",
    "                start = reSearch.span()[0]\n",
    "                end = min(start+sz, len(pg_content))\n",
    "                res.append(pg_content[start:end])\n",
    "\n",
    "        kw_frags.append(res)\n",
    "\n",
    "    print(kw_frags)"
   ]
  },
  {
   "cell_type": "code",
   "execution_count": 2,
   "metadata": {},
   "outputs": [],
   "source": [
    "# scan_pdf(df, 'hello')\n",
    "\n",
    "# TODO: Figure out what goes wrong here"
   ]
  },
  {
   "cell_type": "markdown",
   "metadata": {},
   "source": [
    "# CASE: syngo.CT Brain Hemorrhage\n",
    "\n",
    "# Product Code: K203260"
   ]
  },
  {
   "cell_type": "code",
   "execution_count": 53,
   "metadata": {},
   "outputs": [],
   "source": [
    "def validate_pcode(pcode: str) -> bool:\n",
    "    \"\"\"Function is self explanatory\"\"\"\n",
    "\n",
    "    reg = re.match('(K|DEN)[0-9]{6}', pcode)\n",
    "\n",
    "    return reg is not None and reg.span()[0] == 0 and reg.span()[1] == len(pcode)"
   ]
  },
  {
   "cell_type": "code",
   "execution_count": 54,
   "metadata": {},
   "outputs": [],
   "source": [
    "def find_pcodes(pcode: str) -> List[str]:\n",
    "    \"\"\"\n",
    "    Takes year and product code, returns list of found product codes in submission document\n",
    "\n",
    "    Params:\n",
    "        pcode :: product code, e.g. KXXXXXX, DENXXXXXX\n",
    "    \"\"\"\n",
    "\n",
    "    found_pcodes = []\n",
    "\n",
    "    # Extract year from product code\n",
    "    if pcode[0] == 'K':\n",
    "        yr = pcode[1:3]\n",
    "    else:\n",
    "        yr = pcode[3:5]\n",
    "\n",
    "    # Form URL\n",
    "    url = f'https://www.accessdata.fda.gov/cdrh_docs/pdf{yr}/{pcode}.pdf'\n",
    "\n",
    "    print(url)\n",
    "\n",
    "    # Pull PDF data\n",
    "    response = urllib.request.urlopen(url)\n",
    "    pg_data = response.read()\n",
    "\n",
    "    # Write to tempfile object\n",
    "    temp_file = path.join(tempfile.gettempdir(), 'temp.pdf')\n",
    "    pdf_file = open(temp_file, 'wb')\n",
    "    pdf_file.write(pg_data)\n",
    "\n",
    "    doc = ppdf.PdfFileReader(open(temp_file, 'rb'))\n",
    "    for i, pg in enumerate(doc.pages):\n",
    "        print(f'currently scanning page {i}')\n",
    "\n",
    "        try:\n",
    "            pg_content = pg.extract_text() + '\\n'\n",
    "\n",
    "            regex = re.search('(K|DEN)[0-9]{6}', pg_content)\n",
    "            if regex is not None:\n",
    "                i, j = regex.span()\n",
    "\n",
    "                # Weed out duplicate product codes\n",
    "                found = pg_content[i:j]\n",
    "                print(found) \n",
    "                if found != pcode and validate_pcode(pcode):\n",
    "                    found_pcodes.append(found)\n",
    "\n",
    "        except KeyError as e:\n",
    "            print('found error ', e)\n",
    "\n",
    "    return found_pcodes\n",
    "    \n"
   ]
  },
  {
   "cell_type": "code",
   "execution_count": 55,
   "metadata": {},
   "outputs": [
    {
     "name": "stdout",
     "output_type": "stream",
     "text": [
      "https://www.accessdata.fda.gov/cdrh_docs/pdf20/K203260.pdf\n",
      "currently scanning page 0\n",
      "K203260\n",
      "currently scanning page 1\n",
      "K203260\n",
      "currently scanning page 2\n",
      "currently scanning page 3\n",
      "K203260\n",
      "currently scanning page 4\n",
      "K182177\n",
      "currently scanning page 5\n",
      "currently scanning page 6\n"
     ]
    }
   ],
   "source": [
    "pcode = 'K203260'\n",
    "\n",
    "found = find_pcodes(pcode)"
   ]
  },
  {
   "cell_type": "code",
   "execution_count": 56,
   "metadata": {},
   "outputs": [
    {
     "data": {
      "text/plain": [
       "['K182177']"
      ]
     },
     "execution_count": 56,
     "metadata": {},
     "output_type": "execute_result"
    }
   ],
   "source": [
    "found"
   ]
  },
  {
   "cell_type": "code",
   "execution_count": 57,
   "metadata": {},
   "outputs": [
    {
     "name": "stdout",
     "output_type": "stream",
     "text": [
      "https://www.accessdata.fda.gov/cdrh_docs/pdf18/K182177.pdf\n",
      "currently scanning page 0\n",
      "K182177\n",
      "currently scanning page 1\n",
      "K182177\n",
      "currently scanning page 2\n",
      "found error  '/W'\n",
      "currently scanning page 3\n",
      "DEN170073\n",
      "currently scanning page 4\n",
      "currently scanning page 5\n"
     ]
    }
   ],
   "source": [
    "pcode = found[0]\n",
    "\n",
    "found2 = find_pcodes(pcode)"
   ]
  },
  {
   "cell_type": "code",
   "execution_count": 58,
   "metadata": {},
   "outputs": [
    {
     "data": {
      "text/plain": [
       "['DEN170073']"
      ]
     },
     "execution_count": 58,
     "metadata": {},
     "output_type": "execute_result"
    }
   ],
   "source": [
    "found2"
   ]
  },
  {
   "cell_type": "code",
   "execution_count": 59,
   "metadata": {},
   "outputs": [
    {
     "name": "stdout",
     "output_type": "stream",
     "text": [
      "https://www.accessdata.fda.gov/cdrh_docs/pdf17/DEN170073.pdf\n",
      "currently scanning page 0\n",
      "DEN170073\n",
      "currently scanning page 1\n",
      "DEN170073\n",
      "currently scanning page 2\n",
      "DEN170073\n",
      "currently scanning page 3\n",
      "DEN170073\n",
      "currently scanning page 4\n",
      "DEN170073\n"
     ]
    }
   ],
   "source": [
    "pcode = found2[0]\n",
    "\n",
    "found3 = find_pcodes(pcode)"
   ]
  },
  {
   "cell_type": "code",
   "execution_count": 60,
   "metadata": {},
   "outputs": [
    {
     "data": {
      "text/plain": [
       "[]"
      ]
     },
     "execution_count": 60,
     "metadata": {},
     "output_type": "execute_result"
    }
   ],
   "source": [
    "found3"
   ]
  },
  {
   "cell_type": "markdown",
   "metadata": {},
   "source": [
    "# Putting together the pieces"
   ]
  },
  {
   "cell_type": "code",
   "execution_count": 65,
   "metadata": {},
   "outputs": [],
   "source": [
    "def form_predicate_tree(source: str) -> List[str]:\n",
    "    \"\"\"\n",
    "    Naive way to find predicate devices starting from any source submission number\n",
    "\n",
    "    Params:\n",
    "        source: the starting submission number\n",
    "\n",
    "    Returns:\n",
    "        List[str]: list of predicate devices in ascending order\n",
    "    \"\"\"\n",
    "\n",
    "    if not validate_pcode(source):\n",
    "        print(\"Invalid product code found\")\n",
    "        return\n",
    "\n",
    "    res = [source]\n",
    "\n",
    "    while res[-1][0:3] != 'DEN':\n",
    "        next_pcodes = find_pcodes(res[-1])\n",
    "\n",
    "        i = 0 # Grabs the first unique product code found on the page\n",
    "        while i < len(next_pcodes) and next_pcodes[i] not in res: i += 1\n",
    "        if i == len(next_pcodes): break # covers both the 0 case and no-unique case\n",
    "\n",
    "        res.append(next_pcodes[i])\n",
    "\n",
    "    return res"
   ]
  },
  {
   "cell_type": "code",
   "execution_count": 66,
   "metadata": {},
   "outputs": [
    {
     "name": "stdout",
     "output_type": "stream",
     "text": [
      "https://www.accessdata.fda.gov/cdrh_docs/pdf20/K203260.pdf\n",
      "currently scanning page 0\n",
      "K203260\n",
      "currently scanning page 1\n",
      "K203260\n",
      "currently scanning page 2\n",
      "currently scanning page 3\n",
      "K203260\n",
      "currently scanning page 4\n",
      "K182177\n",
      "currently scanning page 5\n",
      "currently scanning page 6\n",
      "https://www.accessdata.fda.gov/cdrh_docs/pdf18/K182177.pdf\n",
      "currently scanning page 0\n",
      "K182177\n",
      "currently scanning page 1\n",
      "K182177\n",
      "currently scanning page 2\n",
      "found error  '/W'\n",
      "currently scanning page 3\n",
      "DEN170073\n",
      "currently scanning page 4\n",
      "currently scanning page 5\n"
     ]
    }
   ],
   "source": [
    "tree = form_predicate_tree('K203260')"
   ]
  },
  {
   "cell_type": "code",
   "execution_count": 67,
   "metadata": {},
   "outputs": [
    {
     "data": {
      "text/plain": [
       "['K203260', 'K182177', 'DEN170073']"
      ]
     },
     "execution_count": 67,
     "metadata": {},
     "output_type": "execute_result"
    }
   ],
   "source": [
    "tree\n",
    "\n",
    "# success?"
   ]
  },
  {
   "cell_type": "code",
   "execution_count": null,
   "metadata": {},
   "outputs": [],
   "source": []
  }
 ],
 "metadata": {
  "kernelspec": {
   "display_name": "Python 3.9.12 ('base')",
   "language": "python",
   "name": "python3"
  },
  "language_info": {
   "codemirror_mode": {
    "name": "ipython",
    "version": 3
   },
   "file_extension": ".py",
   "mimetype": "text/x-python",
   "name": "python",
   "nbconvert_exporter": "python",
   "pygments_lexer": "ipython3",
   "version": "3.9.12"
  },
  "orig_nbformat": 4,
  "vscode": {
   "interpreter": {
    "hash": "3c96f106d5038f1a08e9b5f35285d94ed7ed79220ac5e2b227cacc776d5e1b04"
   }
  }
 },
 "nbformat": 4,
 "nbformat_minor": 2
}
